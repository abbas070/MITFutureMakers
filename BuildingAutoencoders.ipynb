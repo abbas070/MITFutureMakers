{
  "nbformat": 4,
  "nbformat_minor": 0,
  "metadata": {
    "colab": {
      "name": "BuildingAutoencoders.ipynb",
      "provenance": [],
      "authorship_tag": "ABX9TyOGvP4FJvVbpSL0u7DyB3UO"
    },
    "kernelspec": {
      "name": "python3",
      "display_name": "Python 3"
    },
    "language_info": {
      "name": "python"
    },
    "accelerator": "GPU"
  },
  "cells": [
    {
      "cell_type": "code",
      "metadata": {
        "id": "dLFLN9U6JnZp"
      },
      "source": [
        "import keras\n",
        "from keras import layers\n",
        "\n",
        "# This is the size of our encoded representations\n",
        "encoding_dim = 32  # 32 floats -> compression of factor 24.5, assuming the input is 784 floats\n",
        "\n",
        "# This is our input image\n",
        "input_img = keras.Input(shape=(784,))\n",
        "# \"encoded\" is the encoded representation of the input\n",
        "encoded = layers.Dense(encoding_dim, activation='relu')(input_img)\n",
        "# \"decoded\" is the lossy reconstruction of the input\n",
        "decoded = layers.Dense(784, activation='sigmoid')(encoded)\n",
        "\n",
        "# This model maps an input to its reconstruction\n",
        "autoencoder = keras.Model(input_img, decoded)"
      ],
      "execution_count": 1,
      "outputs": []
    },
    {
      "cell_type": "code",
      "metadata": {
        "id": "lSof3fY7JqR6"
      },
      "source": [
        "encoder = keras.Model(input_img, encoded)\n"
      ],
      "execution_count": 2,
      "outputs": []
    },
    {
      "cell_type": "code",
      "metadata": {
        "id": "FR6nEfJtJsIp"
      },
      "source": [
        "# This is our encoded (32-dimensional) input\n",
        "encoded_input = keras.Input(shape=(encoding_dim,))\n",
        "# Retrieve the last layer of the autoencoder model\n",
        "decoder_layer = autoencoder.layers[-1]\n",
        "# Create the decoder model\n",
        "decoder = keras.Model(encoded_input, decoder_layer(encoded_input))"
      ],
      "execution_count": 3,
      "outputs": []
    },
    {
      "cell_type": "code",
      "metadata": {
        "id": "n2gTWiBcJuEx"
      },
      "source": [
        "autoencoder.compile(optimizer='adam', loss='binary_crossentropy')\n"
      ],
      "execution_count": 4,
      "outputs": []
    },
    {
      "cell_type": "code",
      "metadata": {
        "colab": {
          "base_uri": "https://localhost:8080/"
        },
        "id": "nIG0OMkPJvUF",
        "outputId": "369488b4-966e-4782-eabf-9d94a8fe3e56"
      },
      "source": [
        "from keras.datasets import mnist\n",
        "import numpy as np\n",
        "(x_train, _), (x_test, _) = mnist.load_data()"
      ],
      "execution_count": 5,
      "outputs": [
        {
          "output_type": "stream",
          "text": [
            "Downloading data from https://storage.googleapis.com/tensorflow/tf-keras-datasets/mnist.npz\n",
            "11493376/11490434 [==============================] - 0s 0us/step\n",
            "11501568/11490434 [==============================] - 0s 0us/step\n"
          ],
          "name": "stdout"
        }
      ]
    },
    {
      "cell_type": "code",
      "metadata": {
        "colab": {
          "base_uri": "https://localhost:8080/"
        },
        "id": "EvsOfAdkJxwK",
        "outputId": "c4b32492-88f9-4875-d268-6bd2e49448c1"
      },
      "source": [
        "x_train = x_train.astype('float32') / 255.\n",
        "x_test = x_test.astype('float32') / 255.\n",
        "x_train = x_train.reshape((len(x_train), np.prod(x_train.shape[1:])))\n",
        "x_test = x_test.reshape((len(x_test), np.prod(x_test.shape[1:])))\n",
        "print(x_train.shape)\n",
        "print(x_test.shape)"
      ],
      "execution_count": 6,
      "outputs": [
        {
          "output_type": "stream",
          "text": [
            "(60000, 784)\n",
            "(10000, 784)\n"
          ],
          "name": "stdout"
        }
      ]
    },
    {
      "cell_type": "code",
      "metadata": {
        "colab": {
          "base_uri": "https://localhost:8080/"
        },
        "id": "bKA8nL50JzZp",
        "outputId": "3b599cb6-2b7d-4c5e-ee16-e40533097a47"
      },
      "source": [
        "autoencoder.fit(x_train, x_train,\n",
        "                epochs=50,\n",
        "                batch_size=256,\n",
        "                shuffle=True,\n",
        "                validation_data=(x_test, x_test))"
      ],
      "execution_count": 7,
      "outputs": [
        {
          "output_type": "stream",
          "text": [
            "Epoch 1/50\n",
            "235/235 [==============================] - 16s 5ms/step - loss: 0.3808 - val_loss: 0.1863\n",
            "Epoch 2/50\n",
            "235/235 [==============================] - 1s 4ms/step - loss: 0.1778 - val_loss: 0.1534\n",
            "Epoch 3/50\n",
            "235/235 [==============================] - 1s 4ms/step - loss: 0.1492 - val_loss: 0.1336\n",
            "Epoch 4/50\n",
            "235/235 [==============================] - 1s 4ms/step - loss: 0.1311 - val_loss: 0.1209\n",
            "Epoch 5/50\n",
            "235/235 [==============================] - 1s 4ms/step - loss: 0.1200 - val_loss: 0.1128\n",
            "Epoch 6/50\n",
            "235/235 [==============================] - 1s 4ms/step - loss: 0.1123 - val_loss: 0.1071\n",
            "Epoch 7/50\n",
            "235/235 [==============================] - 1s 4ms/step - loss: 0.1074 - val_loss: 0.1029\n",
            "Epoch 8/50\n",
            "235/235 [==============================] - 1s 4ms/step - loss: 0.1034 - val_loss: 0.0997\n",
            "Epoch 9/50\n",
            "235/235 [==============================] - 1s 4ms/step - loss: 0.1004 - val_loss: 0.0974\n",
            "Epoch 10/50\n",
            "235/235 [==============================] - 1s 4ms/step - loss: 0.0983 - val_loss: 0.0959\n",
            "Epoch 11/50\n",
            "235/235 [==============================] - 1s 4ms/step - loss: 0.0969 - val_loss: 0.0948\n",
            "Epoch 12/50\n",
            "235/235 [==============================] - 1s 4ms/step - loss: 0.0959 - val_loss: 0.0941\n",
            "Epoch 13/50\n",
            "235/235 [==============================] - 1s 4ms/step - loss: 0.0954 - val_loss: 0.0937\n",
            "Epoch 14/50\n",
            "235/235 [==============================] - 1s 4ms/step - loss: 0.0948 - val_loss: 0.0933\n",
            "Epoch 15/50\n",
            "235/235 [==============================] - 1s 4ms/step - loss: 0.0946 - val_loss: 0.0931\n",
            "Epoch 16/50\n",
            "235/235 [==============================] - 1s 4ms/step - loss: 0.0942 - val_loss: 0.0928\n",
            "Epoch 17/50\n",
            "235/235 [==============================] - 1s 4ms/step - loss: 0.0942 - val_loss: 0.0927\n",
            "Epoch 18/50\n",
            "235/235 [==============================] - 1s 4ms/step - loss: 0.0938 - val_loss: 0.0925\n",
            "Epoch 19/50\n",
            "235/235 [==============================] - 1s 4ms/step - loss: 0.0938 - val_loss: 0.0923\n",
            "Epoch 20/50\n",
            "235/235 [==============================] - 1s 4ms/step - loss: 0.0936 - val_loss: 0.0923\n",
            "Epoch 21/50\n",
            "235/235 [==============================] - 1s 4ms/step - loss: 0.0934 - val_loss: 0.0923\n",
            "Epoch 22/50\n",
            "235/235 [==============================] - 1s 4ms/step - loss: 0.0936 - val_loss: 0.0921\n",
            "Epoch 23/50\n",
            "235/235 [==============================] - 1s 4ms/step - loss: 0.0933 - val_loss: 0.0920\n",
            "Epoch 24/50\n",
            "235/235 [==============================] - 1s 4ms/step - loss: 0.0934 - val_loss: 0.0920\n",
            "Epoch 25/50\n",
            "235/235 [==============================] - 1s 4ms/step - loss: 0.0932 - val_loss: 0.0920\n",
            "Epoch 26/50\n",
            "235/235 [==============================] - 1s 4ms/step - loss: 0.0932 - val_loss: 0.0921\n",
            "Epoch 27/50\n",
            "235/235 [==============================] - 1s 4ms/step - loss: 0.0931 - val_loss: 0.0918\n",
            "Epoch 28/50\n",
            "235/235 [==============================] - 1s 4ms/step - loss: 0.0932 - val_loss: 0.0919\n",
            "Epoch 29/50\n",
            "235/235 [==============================] - 1s 4ms/step - loss: 0.0930 - val_loss: 0.0919\n",
            "Epoch 30/50\n",
            "235/235 [==============================] - 1s 4ms/step - loss: 0.0932 - val_loss: 0.0918\n",
            "Epoch 31/50\n",
            "235/235 [==============================] - 1s 4ms/step - loss: 0.0932 - val_loss: 0.0918\n",
            "Epoch 32/50\n",
            "235/235 [==============================] - 1s 4ms/step - loss: 0.0929 - val_loss: 0.0918\n",
            "Epoch 33/50\n",
            "235/235 [==============================] - 1s 4ms/step - loss: 0.0928 - val_loss: 0.0917\n",
            "Epoch 34/50\n",
            "235/235 [==============================] - 1s 4ms/step - loss: 0.0928 - val_loss: 0.0917\n",
            "Epoch 35/50\n",
            "235/235 [==============================] - 1s 3ms/step - loss: 0.0928 - val_loss: 0.0917\n",
            "Epoch 36/50\n",
            "235/235 [==============================] - 1s 4ms/step - loss: 0.0927 - val_loss: 0.0917\n",
            "Epoch 37/50\n",
            "235/235 [==============================] - 1s 4ms/step - loss: 0.0928 - val_loss: 0.0916\n",
            "Epoch 38/50\n",
            "235/235 [==============================] - 1s 4ms/step - loss: 0.0928 - val_loss: 0.0917\n",
            "Epoch 39/50\n",
            "235/235 [==============================] - 1s 4ms/step - loss: 0.0928 - val_loss: 0.0916\n",
            "Epoch 40/50\n",
            "235/235 [==============================] - 1s 4ms/step - loss: 0.0928 - val_loss: 0.0916\n",
            "Epoch 41/50\n",
            "235/235 [==============================] - 1s 4ms/step - loss: 0.0927 - val_loss: 0.0916\n",
            "Epoch 42/50\n",
            "235/235 [==============================] - 1s 4ms/step - loss: 0.0927 - val_loss: 0.0915\n",
            "Epoch 43/50\n",
            "235/235 [==============================] - 1s 4ms/step - loss: 0.0929 - val_loss: 0.0915\n",
            "Epoch 44/50\n",
            "235/235 [==============================] - 1s 4ms/step - loss: 0.0926 - val_loss: 0.0915\n",
            "Epoch 45/50\n",
            "235/235 [==============================] - 1s 4ms/step - loss: 0.0927 - val_loss: 0.0915\n",
            "Epoch 46/50\n",
            "235/235 [==============================] - 1s 4ms/step - loss: 0.0925 - val_loss: 0.0915\n",
            "Epoch 47/50\n",
            "235/235 [==============================] - 1s 4ms/step - loss: 0.0926 - val_loss: 0.0915\n",
            "Epoch 48/50\n",
            "235/235 [==============================] - 1s 4ms/step - loss: 0.0926 - val_loss: 0.0915\n",
            "Epoch 49/50\n",
            "235/235 [==============================] - 1s 4ms/step - loss: 0.0928 - val_loss: 0.0915\n",
            "Epoch 50/50\n",
            "235/235 [==============================] - 1s 4ms/step - loss: 0.0927 - val_loss: 0.0915\n"
          ],
          "name": "stdout"
        },
        {
          "output_type": "execute_result",
          "data": {
            "text/plain": [
              "<keras.callbacks.History at 0x7f9bc0036250>"
            ]
          },
          "metadata": {
            "tags": []
          },
          "execution_count": 7
        }
      ]
    },
    {
      "cell_type": "code",
      "metadata": {
        "id": "1KDmRd6DKbV7"
      },
      "source": [
        "# Encode and decode some digits\n",
        "# Note that we take them from the *test* set\n",
        "encoded_imgs = encoder.predict(x_test)\n",
        "decoded_imgs = decoder.predict(encoded_imgs)"
      ],
      "execution_count": 8,
      "outputs": []
    },
    {
      "cell_type": "code",
      "metadata": {
        "colab": {
          "base_uri": "https://localhost:8080/",
          "height": 248
        },
        "id": "vUFz5_IeKdzN",
        "outputId": "ec7f0fbd-0a1c-4cdd-a473-2df0465f4236"
      },
      "source": [
        "# Use Matplotlib (don't ask)\n",
        "import matplotlib.pyplot as plt\n",
        "\n",
        "n = 10  # How many digits we will display\n",
        "plt.figure(figsize=(20, 4))\n",
        "for i in range(n):\n",
        "    # Display original\n",
        "    ax = plt.subplot(2, n, i + 1)\n",
        "    plt.imshow(x_test[i].reshape(28, 28))\n",
        "    plt.gray()\n",
        "    ax.get_xaxis().set_visible(False)\n",
        "    ax.get_yaxis().set_visible(False)\n",
        "\n",
        "    # Display reconstruction\n",
        "    ax = plt.subplot(2, n, i + 1 + n)\n",
        "    plt.imshow(decoded_imgs[i].reshape(28, 28))\n",
        "    plt.gray()\n",
        "    ax.get_xaxis().set_visible(False)\n",
        "    ax.get_yaxis().set_visible(False)\n",
        "plt.show()"
      ],
      "execution_count": 9,
      "outputs": [
        {
          "output_type": "display_data",
          "data": {
            "image/png": "[encoded data removed]",
            "text/plain": [
              "<Figure size 1440x288 with 20 Axes>"
            ]
          },
          "metadata": {
            "tags": [],
            "needs_background": "light"
          }
        }
      ]
    },
    {
      "cell_type": "code",
      "metadata": {
        "id": "6tM-wzRJKf4d"
      },
      "source": [
        "from keras import regularizers\n",
        "\n",
        "encoding_dim = 32\n",
        "\n",
        "input_img = keras.Input(shape=(784,))\n",
        "# Add a Dense layer with a L1 activity regularizer\n",
        "encoded = layers.Dense(encoding_dim, activation='relu',\n",
        "                activity_regularizer=regularizers.l1(10e-5))(input_img)\n",
        "decoded = layers.Dense(784, activation='sigmoid')(encoded)\n",
        "\n",
        "autoencoder = keras.Model(input_img, decoded)"
      ],
      "execution_count": 10,
      "outputs": []
    },
    {
      "cell_type": "code",
      "metadata": {
        "id": "5exRM2LEKibK"
      },
      "source": [
        "input_img = keras.Input(shape=(784,))\n",
        "encoded = layers.Dense(128, activation='relu')(input_img)\n",
        "encoded = layers.Dense(64, activation='relu')(encoded)\n",
        "encoded = layers.Dense(32, activation='relu')(encoded)\n",
        "\n",
        "decoded = layers.Dense(64, activation='relu')(encoded)\n",
        "decoded = layers.Dense(128, activation='relu')(decoded)\n",
        "decoded = layers.Dense(784, activation='sigmoid')(decoded)"
      ],
      "execution_count": 11,
      "outputs": []
    },
    {
      "cell_type": "code",
      "metadata": {
        "colab": {
          "base_uri": "https://localhost:8080/"
        },
        "id": "2dIDPB9HKkMC",
        "outputId": "efdcacb7-dc2a-444c-dc12-4a45be45451b"
      },
      "source": [
        "autoencoder = keras.Model(input_img, decoded)\n",
        "autoencoder.compile(optimizer='adam', loss='binary_crossentropy')\n",
        "\n",
        "autoencoder.fit(x_train, x_train,\n",
        "                epochs=100,\n",
        "                batch_size=256,\n",
        "                shuffle=True,\n",
        "                validation_data=(x_test, x_test))"
      ],
      "execution_count": 12,
      "outputs": [
        {
          "output_type": "stream",
          "text": [
            "Epoch 1/100\n",
            "235/235 [==============================] - 2s 5ms/step - loss: 0.3284 - val_loss: 0.1650\n",
            "Epoch 2/100\n",
            "235/235 [==============================] - 1s 4ms/step - loss: 0.1578 - val_loss: 0.1365\n",
            "Epoch 3/100\n",
            "235/235 [==============================] - 1s 4ms/step - loss: 0.1344 - val_loss: 0.1257\n",
            "Epoch 4/100\n",
            "235/235 [==============================] - 1s 4ms/step - loss: 0.1249 - val_loss: 0.1180\n",
            "Epoch 5/100\n",
            "235/235 [==============================] - 1s 4ms/step - loss: 0.1182 - val_loss: 0.1124\n",
            "Epoch 6/100\n",
            "235/235 [==============================] - 1s 4ms/step - loss: 0.1128 - val_loss: 0.1090\n",
            "Epoch 7/100\n",
            "235/235 [==============================] - 1s 4ms/step - loss: 0.1095 - val_loss: 0.1060\n",
            "Epoch 8/100\n",
            "235/235 [==============================] - 1s 4ms/step - loss: 0.1069 - val_loss: 0.1037\n",
            "Epoch 9/100\n",
            "235/235 [==============================] - 1s 4ms/step - loss: 0.1047 - val_loss: 0.1022\n",
            "Epoch 10/100\n",
            "235/235 [==============================] - 1s 4ms/step - loss: 0.1030 - val_loss: 0.1006\n",
            "Epoch 11/100\n",
            "235/235 [==============================] - 1s 4ms/step - loss: 0.1015 - val_loss: 0.0995\n",
            "Epoch 12/100\n",
            "235/235 [==============================] - 1s 4ms/step - loss: 0.1004 - val_loss: 0.0981\n",
            "Epoch 13/100\n",
            "235/235 [==============================] - 1s 4ms/step - loss: 0.0990 - val_loss: 0.0970\n",
            "Epoch 14/100\n",
            "235/235 [==============================] - 1s 4ms/step - loss: 0.0977 - val_loss: 0.0957\n",
            "Epoch 15/100\n",
            "235/235 [==============================] - 1s 4ms/step - loss: 0.0964 - val_loss: 0.0947\n",
            "Epoch 16/100\n",
            "235/235 [==============================] - 1s 4ms/step - loss: 0.0953 - val_loss: 0.0942\n",
            "Epoch 17/100\n",
            "235/235 [==============================] - 1s 4ms/step - loss: 0.0946 - val_loss: 0.0932\n",
            "Epoch 18/100\n",
            "235/235 [==============================] - 1s 4ms/step - loss: 0.0938 - val_loss: 0.0923\n",
            "Epoch 19/100\n",
            "235/235 [==============================] - 1s 4ms/step - loss: 0.0930 - val_loss: 0.0914\n",
            "Epoch 20/100\n",
            "235/235 [==============================] - 1s 4ms/step - loss: 0.0921 - val_loss: 0.0910\n",
            "Epoch 21/100\n",
            "235/235 [==============================] - 1s 4ms/step - loss: 0.0917 - val_loss: 0.0904\n",
            "Epoch 22/100\n",
            "235/235 [==============================] - 1s 4ms/step - loss: 0.0913 - val_loss: 0.0899\n",
            "Epoch 23/100\n",
            "235/235 [==============================] - 1s 4ms/step - loss: 0.0907 - val_loss: 0.0900\n",
            "Epoch 24/100\n",
            "235/235 [==============================] - 1s 4ms/step - loss: 0.0902 - val_loss: 0.0891\n",
            "Epoch 25/100\n",
            "235/235 [==============================] - 1s 4ms/step - loss: 0.0898 - val_loss: 0.0886\n",
            "Epoch 26/100\n",
            "235/235 [==============================] - 1s 4ms/step - loss: 0.0892 - val_loss: 0.0883\n",
            "Epoch 27/100\n",
            "235/235 [==============================] - 1s 4ms/step - loss: 0.0891 - val_loss: 0.0882\n",
            "Epoch 28/100\n",
            "235/235 [==============================] - 1s 4ms/step - loss: 0.0886 - val_loss: 0.0880\n",
            "Epoch 29/100\n",
            "235/235 [==============================] - 1s 4ms/step - loss: 0.0881 - val_loss: 0.0877\n",
            "Epoch 30/100\n",
            "235/235 [==============================] - 1s 4ms/step - loss: 0.0881 - val_loss: 0.0871\n",
            "Epoch 31/100\n",
            "235/235 [==============================] - 1s 4ms/step - loss: 0.0877 - val_loss: 0.0875\n",
            "Epoch 32/100\n",
            "235/235 [==============================] - 1s 4ms/step - loss: 0.0873 - val_loss: 0.0864\n",
            "Epoch 33/100\n",
            "235/235 [==============================] - 1s 4ms/step - loss: 0.0872 - val_loss: 0.0864\n",
            "Epoch 34/100\n",
            "235/235 [==============================] - 1s 5ms/step - loss: 0.0870 - val_loss: 0.0861\n",
            "Epoch 35/100\n",
            "235/235 [==============================] - 1s 4ms/step - loss: 0.0866 - val_loss: 0.0858\n",
            "Epoch 36/100\n",
            "235/235 [==============================] - 1s 4ms/step - loss: 0.0863 - val_loss: 0.0857\n",
            "Epoch 37/100\n",
            "235/235 [==============================] - 1s 4ms/step - loss: 0.0861 - val_loss: 0.0854\n",
            "Epoch 38/100\n",
            "235/235 [==============================] - 1s 4ms/step - loss: 0.0859 - val_loss: 0.0853\n",
            "Epoch 39/100\n",
            "235/235 [==============================] - 1s 4ms/step - loss: 0.0858 - val_loss: 0.0851\n",
            "Epoch 40/100\n",
            "235/235 [==============================] - 1s 4ms/step - loss: 0.0856 - val_loss: 0.0846\n",
            "Epoch 41/100\n",
            "235/235 [==============================] - 1s 4ms/step - loss: 0.0852 - val_loss: 0.0847\n",
            "Epoch 42/100\n",
            "235/235 [==============================] - 1s 4ms/step - loss: 0.0853 - val_loss: 0.0845\n",
            "Epoch 43/100\n",
            "235/235 [==============================] - 1s 4ms/step - loss: 0.0848 - val_loss: 0.0844\n",
            "Epoch 44/100\n",
            "235/235 [==============================] - 1s 4ms/step - loss: 0.0848 - val_loss: 0.0842\n",
            "Epoch 45/100\n",
            "235/235 [==============================] - 1s 4ms/step - loss: 0.0848 - val_loss: 0.0841\n",
            "Epoch 46/100\n",
            "235/235 [==============================] - 1s 4ms/step - loss: 0.0848 - val_loss: 0.0840\n",
            "Epoch 47/100\n",
            "235/235 [==============================] - 1s 4ms/step - loss: 0.0845 - val_loss: 0.0839\n",
            "Epoch 48/100\n",
            "235/235 [==============================] - 1s 4ms/step - loss: 0.0844 - val_loss: 0.0840\n",
            "Epoch 49/100\n",
            "235/235 [==============================] - 1s 4ms/step - loss: 0.0843 - val_loss: 0.0838\n",
            "Epoch 50/100\n",
            "235/235 [==============================] - 1s 4ms/step - loss: 0.0843 - val_loss: 0.0836\n",
            "Epoch 51/100\n",
            "235/235 [==============================] - 1s 4ms/step - loss: 0.0840 - val_loss: 0.0836\n",
            "Epoch 52/100\n",
            "235/235 [==============================] - 1s 4ms/step - loss: 0.0839 - val_loss: 0.0835\n",
            "Epoch 53/100\n",
            "235/235 [==============================] - 1s 4ms/step - loss: 0.0839 - val_loss: 0.0835\n",
            "Epoch 54/100\n",
            "235/235 [==============================] - 1s 4ms/step - loss: 0.0841 - val_loss: 0.0834\n",
            "Epoch 55/100\n",
            "235/235 [==============================] - 1s 4ms/step - loss: 0.0837 - val_loss: 0.0834\n",
            "Epoch 56/100\n",
            "235/235 [==============================] - 1s 4ms/step - loss: 0.0835 - val_loss: 0.0834\n",
            "Epoch 57/100\n",
            "235/235 [==============================] - 1s 4ms/step - loss: 0.0836 - val_loss: 0.0830\n",
            "Epoch 58/100\n",
            "235/235 [==============================] - 1s 4ms/step - loss: 0.0835 - val_loss: 0.0832\n",
            "Epoch 59/100\n",
            "235/235 [==============================] - 1s 4ms/step - loss: 0.0836 - val_loss: 0.0829\n",
            "Epoch 60/100\n",
            "235/235 [==============================] - 1s 4ms/step - loss: 0.0834 - val_loss: 0.0830\n",
            "Epoch 61/100\n",
            "235/235 [==============================] - 1s 4ms/step - loss: 0.0834 - val_loss: 0.0829\n",
            "Epoch 62/100\n",
            "235/235 [==============================] - 1s 4ms/step - loss: 0.0831 - val_loss: 0.0830\n",
            "Epoch 63/100\n",
            "235/235 [==============================] - 1s 4ms/step - loss: 0.0833 - val_loss: 0.0830\n",
            "Epoch 64/100\n",
            "235/235 [==============================] - 1s 4ms/step - loss: 0.0830 - val_loss: 0.0829\n",
            "Epoch 65/100\n",
            "235/235 [==============================] - 1s 4ms/step - loss: 0.0831 - val_loss: 0.0827\n",
            "Epoch 66/100\n",
            "235/235 [==============================] - 1s 4ms/step - loss: 0.0830 - val_loss: 0.0826\n",
            "Epoch 67/100\n",
            "235/235 [==============================] - 1s 4ms/step - loss: 0.0829 - val_loss: 0.0824\n",
            "Epoch 68/100\n",
            "235/235 [==============================] - 1s 4ms/step - loss: 0.0828 - val_loss: 0.0827\n",
            "Epoch 69/100\n",
            "235/235 [==============================] - 1s 4ms/step - loss: 0.0827 - val_loss: 0.0823\n",
            "Epoch 70/100\n",
            "235/235 [==============================] - 1s 4ms/step - loss: 0.0826 - val_loss: 0.0824\n",
            "Epoch 71/100\n",
            "235/235 [==============================] - 1s 4ms/step - loss: 0.0827 - val_loss: 0.0822\n",
            "Epoch 72/100\n",
            "235/235 [==============================] - 1s 4ms/step - loss: 0.0827 - val_loss: 0.0825\n",
            "Epoch 73/100\n",
            "235/235 [==============================] - 1s 4ms/step - loss: 0.0826 - val_loss: 0.0822\n",
            "Epoch 74/100\n",
            "235/235 [==============================] - 1s 4ms/step - loss: 0.0827 - val_loss: 0.0821\n",
            "Epoch 75/100\n",
            "235/235 [==============================] - 1s 4ms/step - loss: 0.0826 - val_loss: 0.0823\n",
            "Epoch 76/100\n",
            "235/235 [==============================] - 1s 4ms/step - loss: 0.0826 - val_loss: 0.0821\n",
            "Epoch 77/100\n",
            "235/235 [==============================] - 1s 4ms/step - loss: 0.0822 - val_loss: 0.0820\n",
            "Epoch 78/100\n",
            "235/235 [==============================] - 1s 4ms/step - loss: 0.0823 - val_loss: 0.0821\n",
            "Epoch 79/100\n",
            "235/235 [==============================] - 1s 4ms/step - loss: 0.0823 - val_loss: 0.0821\n",
            "Epoch 80/100\n",
            "235/235 [==============================] - 1s 4ms/step - loss: 0.0822 - val_loss: 0.0819\n",
            "Epoch 81/100\n",
            "235/235 [==============================] - 1s 4ms/step - loss: 0.0821 - val_loss: 0.0820\n",
            "Epoch 82/100\n",
            "235/235 [==============================] - 1s 4ms/step - loss: 0.0822 - val_loss: 0.0819\n",
            "Epoch 83/100\n",
            "235/235 [==============================] - 1s 4ms/step - loss: 0.0822 - val_loss: 0.0819\n",
            "Epoch 84/100\n",
            "235/235 [==============================] - 1s 4ms/step - loss: 0.0823 - val_loss: 0.0818\n",
            "Epoch 85/100\n",
            "235/235 [==============================] - 1s 4ms/step - loss: 0.0820 - val_loss: 0.0822\n",
            "Epoch 86/100\n",
            "235/235 [==============================] - 1s 4ms/step - loss: 0.0821 - val_loss: 0.0817\n",
            "Epoch 87/100\n",
            "235/235 [==============================] - 1s 4ms/step - loss: 0.0822 - val_loss: 0.0819\n",
            "Epoch 88/100\n",
            "235/235 [==============================] - 1s 4ms/step - loss: 0.0819 - val_loss: 0.0816\n",
            "Epoch 89/100\n",
            "235/235 [==============================] - 1s 4ms/step - loss: 0.0819 - val_loss: 0.0818\n",
            "Epoch 90/100\n",
            "235/235 [==============================] - 1s 4ms/step - loss: 0.0820 - val_loss: 0.0817\n",
            "Epoch 91/100\n",
            "235/235 [==============================] - 1s 4ms/step - loss: 0.0819 - val_loss: 0.0817\n",
            "Epoch 92/100\n",
            "235/235 [==============================] - 1s 5ms/step - loss: 0.0817 - val_loss: 0.0816\n",
            "Epoch 93/100\n",
            "235/235 [==============================] - 1s 5ms/step - loss: 0.0818 - val_loss: 0.0818\n",
            "Epoch 94/100\n",
            "235/235 [==============================] - 1s 5ms/step - loss: 0.0818 - val_loss: 0.0816\n",
            "Epoch 95/100\n",
            "235/235 [==============================] - 1s 5ms/step - loss: 0.0817 - val_loss: 0.0815\n",
            "Epoch 96/100\n",
            "235/235 [==============================] - 1s 5ms/step - loss: 0.0817 - val_loss: 0.0815\n",
            "Epoch 97/100\n",
            "235/235 [==============================] - 1s 5ms/step - loss: 0.0816 - val_loss: 0.0815\n",
            "Epoch 98/100\n",
            "235/235 [==============================] - 1s 5ms/step - loss: 0.0817 - val_loss: 0.0815\n",
            "Epoch 99/100\n",
            "235/235 [==============================] - 1s 4ms/step - loss: 0.0817 - val_loss: 0.0815\n",
            "Epoch 100/100\n",
            "235/235 [==============================] - 1s 5ms/step - loss: 0.0815 - val_loss: 0.0813\n"
          ],
          "name": "stdout"
        },
        {
          "output_type": "execute_result",
          "data": {
            "text/plain": [
              "<keras.callbacks.History at 0x7f9b687b8e10>"
            ]
          },
          "metadata": {
            "tags": []
          },
          "execution_count": 12
        }
      ]
    },
    {
      "cell_type": "code",
      "metadata": {
        "id": "o2SNEdoTMGCQ"
      },
      "source": [
        "import keras\n",
        "from keras import layers\n",
        "\n",
        "input_img = keras.Input(shape=(28, 28, 1))\n",
        "\n",
        "x = layers.Conv2D(16, (3, 3), activation='relu', padding='same')(input_img)\n",
        "x = layers.MaxPooling2D((2, 2), padding='same')(x)\n",
        "x = layers.Conv2D(8, (3, 3), activation='relu', padding='same')(x)\n",
        "x = layers.MaxPooling2D((2, 2), padding='same')(x)\n",
        "x = layers.Conv2D(8, (3, 3), activation='relu', padding='same')(x)\n",
        "encoded = layers.MaxPooling2D((2, 2), padding='same')(x)\n",
        "\n",
        "# at this point the representation is (4, 4, 8) i.e. 128-dimensional\n",
        "\n",
        "x = layers.Conv2D(8, (3, 3), activation='relu', padding='same')(encoded)\n",
        "x = layers.UpSampling2D((2, 2))(x)\n",
        "x = layers.Conv2D(8, (3, 3), activation='relu', padding='same')(x)\n",
        "x = layers.UpSampling2D((2, 2))(x)\n",
        "x = layers.Conv2D(16, (3, 3), activation='relu')(x)\n",
        "x = layers.UpSampling2D((2, 2))(x)\n",
        "decoded = layers.Conv2D(1, (3, 3), activation='sigmoid', padding='same')(x)\n",
        "\n",
        "autoencoder = keras.Model(input_img, decoded)\n",
        "autoencoder.compile(optimizer='adam', loss='binary_crossentropy')"
      ],
      "execution_count": 13,
      "outputs": []
    },
    {
      "cell_type": "code",
      "metadata": {
        "id": "b6ikLDtbMJ1H"
      },
      "source": [
        "from keras.datasets import mnist\n",
        "import numpy as np\n",
        "\n",
        "(x_train, _), (x_test, _) = mnist.load_data()\n",
        "\n",
        "x_train = x_train.astype('float32') / 255.\n",
        "x_test = x_test.astype('float32') / 255.\n",
        "x_train = np.reshape(x_train, (len(x_train), 28, 28, 1))\n",
        "x_test = np.reshape(x_test, (len(x_test), 28, 28, 1))"
      ],
      "execution_count": 14,
      "outputs": []
    },
    {
      "cell_type": "code",
      "metadata": {
        "colab": {
          "base_uri": "https://localhost:8080/"
        },
        "id": "palva8blMMVO",
        "outputId": "72fbc3f2-0bc9-4e37-c935-af9bc5eadc4f"
      },
      "source": [
        "from keras.callbacks import TensorBoard\n",
        "\n",
        "autoencoder.fit(x_train, x_train,\n",
        "                epochs=50,\n",
        "                batch_size=128,\n",
        "                shuffle=True,\n",
        "                validation_data=(x_test, x_test),\n",
        "                callbacks=[TensorBoard(log_dir='/tmp/autoencoder')])"
      ],
      "execution_count": 16,
      "outputs": [
        {
          "output_type": "stream",
          "text": [
            "Epoch 1/50\n",
            "469/469 [==============================] - 35s 11ms/step - loss: 0.3031 - val_loss: 0.1425\n",
            "Epoch 2/50\n",
            "469/469 [==============================] - 3s 7ms/step - loss: 0.1376 - val_loss: 0.1252\n",
            "Epoch 3/50\n",
            "469/469 [==============================] - 3s 7ms/step - loss: 0.1237 - val_loss: 0.1169\n",
            "Epoch 4/50\n",
            "469/469 [==============================] - 3s 7ms/step - loss: 0.1166 - val_loss: 0.1121\n",
            "Epoch 5/50\n",
            "469/469 [==============================] - 3s 7ms/step - loss: 0.1125 - val_loss: 0.1096\n",
            "Epoch 6/50\n",
            "469/469 [==============================] - 3s 7ms/step - loss: 0.1097 - val_loss: 0.1073\n",
            "Epoch 7/50\n",
            "469/469 [==============================] - 3s 7ms/step - loss: 0.1081 - val_loss: 0.1061\n",
            "Epoch 8/50\n",
            "469/469 [==============================] - 3s 7ms/step - loss: 0.1062 - val_loss: 0.1044\n",
            "Epoch 9/50\n",
            "469/469 [==============================] - 3s 7ms/step - loss: 0.1050 - val_loss: 0.1028\n",
            "Epoch 10/50\n",
            "469/469 [==============================] - 3s 7ms/step - loss: 0.1037 - val_loss: 0.1022\n",
            "Epoch 11/50\n",
            "469/469 [==============================] - 3s 7ms/step - loss: 0.1031 - val_loss: 0.1016\n",
            "Epoch 12/50\n",
            "469/469 [==============================] - 4s 8ms/step - loss: 0.1022 - val_loss: 0.1005\n",
            "Epoch 13/50\n",
            "469/469 [==============================] - 3s 7ms/step - loss: 0.1017 - val_loss: 0.0998\n",
            "Epoch 14/50\n",
            "469/469 [==============================] - 3s 7ms/step - loss: 0.1008 - val_loss: 0.0992\n",
            "Epoch 15/50\n",
            "469/469 [==============================] - 3s 7ms/step - loss: 0.1000 - val_loss: 0.0986\n",
            "Epoch 16/50\n",
            "469/469 [==============================] - 3s 7ms/step - loss: 0.0994 - val_loss: 0.0984\n",
            "Epoch 17/50\n",
            "469/469 [==============================] - 4s 7ms/step - loss: 0.0993 - val_loss: 0.0975\n",
            "Epoch 18/50\n",
            "469/469 [==============================] - 3s 7ms/step - loss: 0.0986 - val_loss: 0.0971\n",
            "Epoch 19/50\n",
            "469/469 [==============================] - 3s 7ms/step - loss: 0.0986 - val_loss: 0.0971\n",
            "Epoch 20/50\n",
            "469/469 [==============================] - 3s 7ms/step - loss: 0.0978 - val_loss: 0.0968\n",
            "Epoch 21/50\n",
            "469/469 [==============================] - 4s 8ms/step - loss: 0.0977 - val_loss: 0.0962\n",
            "Epoch 22/50\n",
            "469/469 [==============================] - 3s 7ms/step - loss: 0.0971 - val_loss: 0.0957\n",
            "Epoch 23/50\n",
            "469/469 [==============================] - 3s 7ms/step - loss: 0.0969 - val_loss: 0.0958\n",
            "Epoch 24/50\n",
            "469/469 [==============================] - 3s 7ms/step - loss: 0.0965 - val_loss: 0.0955\n",
            "Epoch 25/50\n",
            "469/469 [==============================] - 3s 7ms/step - loss: 0.0964 - val_loss: 0.0957\n",
            "Epoch 26/50\n",
            "469/469 [==============================] - 3s 7ms/step - loss: 0.0961 - val_loss: 0.0947\n",
            "Epoch 27/50\n",
            "469/469 [==============================] - 3s 7ms/step - loss: 0.0956 - val_loss: 0.0947\n",
            "Epoch 28/50\n",
            "469/469 [==============================] - 3s 7ms/step - loss: 0.0953 - val_loss: 0.0940\n",
            "Epoch 29/50\n",
            "469/469 [==============================] - 3s 7ms/step - loss: 0.0953 - val_loss: 0.0941\n",
            "Epoch 30/50\n",
            "469/469 [==============================] - 3s 7ms/step - loss: 0.0951 - val_loss: 0.0934\n",
            "Epoch 31/50\n",
            "469/469 [==============================] - 3s 7ms/step - loss: 0.0947 - val_loss: 0.0937\n",
            "Epoch 32/50\n",
            "469/469 [==============================] - 3s 7ms/step - loss: 0.0943 - val_loss: 0.0942\n",
            "Epoch 33/50\n",
            "469/469 [==============================] - 3s 7ms/step - loss: 0.0942 - val_loss: 0.0930\n",
            "Epoch 34/50\n",
            "469/469 [==============================] - 3s 7ms/step - loss: 0.0943 - val_loss: 0.0932\n",
            "Epoch 35/50\n",
            "469/469 [==============================] - 3s 6ms/step - loss: 0.0941 - val_loss: 0.0952\n",
            "Epoch 36/50\n",
            "469/469 [==============================] - 3s 6ms/step - loss: 0.0938 - val_loss: 0.0926\n",
            "Epoch 37/50\n",
            "469/469 [==============================] - 3s 6ms/step - loss: 0.0938 - val_loss: 0.0928\n",
            "Epoch 38/50\n",
            "469/469 [==============================] - 3s 6ms/step - loss: 0.0935 - val_loss: 0.0927\n",
            "Epoch 39/50\n",
            "469/469 [==============================] - 3s 7ms/step - loss: 0.0933 - val_loss: 0.0921\n",
            "Epoch 40/50\n",
            "469/469 [==============================] - 3s 6ms/step - loss: 0.0932 - val_loss: 0.0921\n",
            "Epoch 41/50\n",
            "469/469 [==============================] - 3s 6ms/step - loss: 0.0931 - val_loss: 0.0919\n",
            "Epoch 42/50\n",
            "469/469 [==============================] - 3s 6ms/step - loss: 0.0930 - val_loss: 0.0919\n",
            "Epoch 43/50\n",
            "469/469 [==============================] - 3s 7ms/step - loss: 0.0931 - val_loss: 0.0915\n",
            "Epoch 44/50\n",
            "469/469 [==============================] - 3s 7ms/step - loss: 0.0927 - val_loss: 0.0916\n",
            "Epoch 45/50\n",
            "469/469 [==============================] - 3s 7ms/step - loss: 0.0929 - val_loss: 0.0917\n",
            "Epoch 46/50\n",
            "469/469 [==============================] - 3s 7ms/step - loss: 0.0923 - val_loss: 0.0915\n",
            "Epoch 47/50\n",
            "469/469 [==============================] - 3s 7ms/step - loss: 0.0925 - val_loss: 0.0910\n",
            "Epoch 48/50\n",
            "469/469 [==============================] - 3s 7ms/step - loss: 0.0924 - val_loss: 0.0911\n",
            "Epoch 49/50\n",
            "469/469 [==============================] - 3s 7ms/step - loss: 0.0921 - val_loss: 0.0914\n",
            "Epoch 50/50\n",
            "469/469 [==============================] - 3s 7ms/step - loss: 0.0921 - val_loss: 0.0910\n"
          ],
          "name": "stdout"
        },
        {
          "output_type": "execute_result",
          "data": {
            "text/plain": [
              "<keras.callbacks.History at 0x7f9b6856cd90>"
            ]
          },
          "metadata": {
            "tags": []
          },
          "execution_count": 16
        }
      ]
    },
    {
      "cell_type": "code",
      "metadata": {
        "colab": {
          "base_uri": "https://localhost:8080/",
          "height": 248
        },
        "id": "3v1ZsMgzNAzd",
        "outputId": "72bbf5d9-c90b-4868-8f2a-fe5b2003db63"
      },
      "source": [
        "decoded_imgs = autoencoder.predict(x_test)\n",
        "\n",
        "n = 10\n",
        "plt.figure(figsize=(20, 4))\n",
        "for i in range(1, n + 1):\n",
        "    # Display original\n",
        "    ax = plt.subplot(2, n, i)\n",
        "    plt.imshow(x_test[i].reshape(28, 28))\n",
        "    plt.gray()\n",
        "    ax.get_xaxis().set_visible(False)\n",
        "    ax.get_yaxis().set_visible(False)\n",
        "\n",
        "    # Display reconstruction\n",
        "    ax = plt.subplot(2, n, i + n)\n",
        "    plt.imshow(decoded_imgs[i].reshape(28, 28))\n",
        "    plt.gray()\n",
        "    ax.get_xaxis().set_visible(False)\n",
        "    ax.get_yaxis().set_visible(False)\n",
        "plt.show()"
      ],
      "execution_count": 17,
      "outputs": [
        {
          "output_type": "display_data",
          "data": {
            "image/png": "[encoded data removed]",
            "text/plain": [
              "<Figure size 1440x288 with 20 Axes>"
            ]
          },
          "metadata": {
            "tags": [],
            "needs_background": "light"
          }
        }
      ]
    },
    {
      "cell_type": "code",
      "metadata": {
        "colab": {
          "base_uri": "https://localhost:8080/",
          "height": 469
        },
        "id": "LNqkZhBcNDiY",
        "outputId": "4fb8289b-5940-4b1c-c226-40a86065d6e7"
      },
      "source": [
        "encoder = keras.Model(input_img, encoded)\n",
        "encoded_imgs = encoder.predict(x_test)\n",
        "\n",
        "n = 10\n",
        "plt.figure(figsize=(20, 8))\n",
        "for i in range(1, n + 1):\n",
        "    ax = plt.subplot(1, n, i)\n",
        "    plt.imshow(encoded_imgs[i].reshape((4, 4 * 8)).T)\n",
        "    plt.gray()\n",
        "    ax.get_xaxis().set_visible(False)\n",
        "    ax.get_yaxis().set_visible(False)\n",
        "plt.show()"
      ],
      "execution_count": 18,
      "outputs": [
        {
          "output_type": "display_data",
          "data": {
            "image/png": "[encoded data removed]",
            "text/plain": [
              "<Figure size 1440x576 with 10 Axes>"
            ]
          },
          "metadata": {
            "tags": [],
            "needs_background": "light"
          }
        }
      ]
    },
    {
      "cell_type": "code",
      "metadata": {
        "id": "3WvbF1xnNFpT"
      },
      "source": [
        "from keras.datasets import mnist\n",
        "import numpy as np\n",
        "\n",
        "(x_train, _), (x_test, _) = mnist.load_data()\n",
        "\n",
        "x_train = x_train.astype('float32') / 255.\n",
        "x_test = x_test.astype('float32') / 255.\n",
        "x_train = np.reshape(x_train, (len(x_train), 28, 28, 1))\n",
        "x_test = np.reshape(x_test, (len(x_test), 28, 28, 1))\n",
        "\n",
        "noise_factor = 0.5\n",
        "x_train_noisy = x_train + noise_factor * np.random.normal(loc=0.0, scale=1.0, size=x_train.shape) \n",
        "x_test_noisy = x_test + noise_factor * np.random.normal(loc=0.0, scale=1.0, size=x_test.shape) \n",
        "\n",
        "x_train_noisy = np.clip(x_train_noisy, 0., 1.)\n",
        "x_test_noisy = np.clip(x_test_noisy, 0., 1.)"
      ],
      "execution_count": 19,
      "outputs": []
    },
    {
      "cell_type": "code",
      "metadata": {
        "colab": {
          "base_uri": "https://localhost:8080/",
          "height": 129
        },
        "id": "S94ihyGRNICL",
        "outputId": "4e5ceca7-dfe0-4cdd-d5fb-ead65c5232a5"
      },
      "source": [
        "n = 10\n",
        "plt.figure(figsize=(20, 2))\n",
        "for i in range(1, n + 1):\n",
        "    ax = plt.subplot(1, n, i)\n",
        "    plt.imshow(x_test_noisy[i].reshape(28, 28))\n",
        "    plt.gray()\n",
        "    ax.get_xaxis().set_visible(False)\n",
        "    ax.get_yaxis().set_visible(False)\n",
        "plt.show()"
      ],
      "execution_count": 20,
      "outputs": [
        {
          "output_type": "display_data",
          "data": {
            "image/png": "[encoded data removed]",
            "text/plain": [
              "<Figure size 1440x144 with 10 Axes>"
            ]
          },
          "metadata": {
            "tags": [],
            "needs_background": "light"
          }
        }
      ]
    },
    {
      "cell_type": "code",
      "metadata": {
        "id": "R2-_WWfsNJqd"
      },
      "source": [
        "input_img = keras.Input(shape=(28, 28, 1))\n",
        "\n",
        "x = layers.Conv2D(32, (3, 3), activation='relu', padding='same')(input_img)\n",
        "x = layers.MaxPooling2D((2, 2), padding='same')(x)\n",
        "x = layers.Conv2D(32, (3, 3), activation='relu', padding='same')(x)\n",
        "encoded = layers.MaxPooling2D((2, 2), padding='same')(x)\n",
        "\n",
        "# At this point the representation is (7, 7, 32)\n",
        "\n",
        "x = layers.Conv2D(32, (3, 3), activation='relu', padding='same')(encoded)\n",
        "x = layers.UpSampling2D((2, 2))(x)\n",
        "x = layers.Conv2D(32, (3, 3), activation='relu', padding='same')(x)\n",
        "x = layers.UpSampling2D((2, 2))(x)\n",
        "decoded = layers.Conv2D(1, (3, 3), activation='sigmoid', padding='same')(x)\n",
        "\n",
        "autoencoder = keras.Model(input_img, decoded)\n",
        "autoencoder.compile(optimizer='adam', loss='binary_crossentropy')"
      ],
      "execution_count": 21,
      "outputs": []
    },
    {
      "cell_type": "code",
      "metadata": {
        "colab": {
          "base_uri": "https://localhost:8080/"
        },
        "id": "DnIzdqX7NMq2",
        "outputId": "2326812a-a294-43e9-f88f-c2e2fc028fbf"
      },
      "source": [
        "autoencoder.fit(x_train_noisy, x_train,\n",
        "                epochs=100,\n",
        "                batch_size=128,\n",
        "                shuffle=True,\n",
        "                validation_data=(x_test_noisy, x_test),\n",
        "                callbacks=[TensorBoard(log_dir='/tmp/tb', histogram_freq=0, write_graph=False)])"
      ],
      "execution_count": 22,
      "outputs": [
        {
          "output_type": "stream",
          "text": [
            "Epoch 1/100\n",
            "469/469 [==============================] - 6s 11ms/step - loss: 0.2586 - val_loss: 0.1189\n",
            "Epoch 2/100\n",
            "469/469 [==============================] - 4s 8ms/step - loss: 0.1171 - val_loss: 0.1105\n",
            "Epoch 3/100\n",
            "469/469 [==============================] - 4s 8ms/step - loss: 0.1102 - val_loss: 0.1061\n",
            "Epoch 4/100\n",
            "469/469 [==============================] - 4s 8ms/step - loss: 0.1064 - val_loss: 0.1034\n",
            "Epoch 5/100\n",
            "469/469 [==============================] - 4s 8ms/step - loss: 0.1041 - val_loss: 0.1019\n",
            "Epoch 6/100\n",
            "469/469 [==============================] - 4s 8ms/step - loss: 0.1026 - val_loss: 0.1007\n",
            "Epoch 7/100\n",
            "469/469 [==============================] - 4s 8ms/step - loss: 0.1013 - val_loss: 0.0998\n",
            "Epoch 8/100\n",
            "469/469 [==============================] - 4s 8ms/step - loss: 0.1004 - val_loss: 0.0999\n",
            "Epoch 9/100\n",
            "469/469 [==============================] - 4s 8ms/step - loss: 0.0996 - val_loss: 0.0985\n",
            "Epoch 10/100\n",
            "469/469 [==============================] - 4s 8ms/step - loss: 0.0990 - val_loss: 0.0981\n",
            "Epoch 11/100\n",
            "469/469 [==============================] - 4s 8ms/step - loss: 0.0985 - val_loss: 0.0974\n",
            "Epoch 12/100\n",
            "469/469 [==============================] - 4s 8ms/step - loss: 0.0982 - val_loss: 0.0972\n",
            "Epoch 13/100\n",
            "469/469 [==============================] - 4s 8ms/step - loss: 0.0977 - val_loss: 0.0970\n",
            "Epoch 14/100\n",
            "469/469 [==============================] - 4s 8ms/step - loss: 0.0975 - val_loss: 0.0966\n",
            "Epoch 15/100\n",
            "469/469 [==============================] - 4s 8ms/step - loss: 0.0971 - val_loss: 0.0962\n",
            "Epoch 16/100\n",
            "469/469 [==============================] - 4s 8ms/step - loss: 0.0968 - val_loss: 0.0963\n",
            "Epoch 17/100\n",
            "469/469 [==============================] - 4s 8ms/step - loss: 0.0965 - val_loss: 0.0959\n",
            "Epoch 18/100\n",
            "469/469 [==============================] - 4s 8ms/step - loss: 0.0964 - val_loss: 0.0957\n",
            "Epoch 19/100\n",
            "469/469 [==============================] - 4s 8ms/step - loss: 0.0964 - val_loss: 0.0957\n",
            "Epoch 20/100\n",
            "469/469 [==============================] - 4s 8ms/step - loss: 0.0960 - val_loss: 0.0954\n",
            "Epoch 21/100\n",
            "469/469 [==============================] - 4s 8ms/step - loss: 0.0960 - val_loss: 0.0953\n",
            "Epoch 22/100\n",
            "469/469 [==============================] - 4s 8ms/step - loss: 0.0957 - val_loss: 0.0952\n",
            "Epoch 23/100\n",
            "469/469 [==============================] - 4s 8ms/step - loss: 0.0956 - val_loss: 0.0950\n",
            "Epoch 24/100\n",
            "469/469 [==============================] - 4s 8ms/step - loss: 0.0953 - val_loss: 0.0950\n",
            "Epoch 25/100\n",
            "469/469 [==============================] - 4s 8ms/step - loss: 0.0955 - val_loss: 0.0950\n",
            "Epoch 26/100\n",
            "469/469 [==============================] - 4s 8ms/step - loss: 0.0952 - val_loss: 0.0947\n",
            "Epoch 27/100\n",
            "469/469 [==============================] - 4s 8ms/step - loss: 0.0951 - val_loss: 0.0946\n",
            "Epoch 28/100\n",
            "469/469 [==============================] - 4s 8ms/step - loss: 0.0950 - val_loss: 0.0947\n",
            "Epoch 29/100\n",
            "469/469 [==============================] - 4s 8ms/step - loss: 0.0951 - val_loss: 0.0946\n",
            "Epoch 30/100\n",
            "469/469 [==============================] - 4s 8ms/step - loss: 0.0948 - val_loss: 0.0946\n",
            "Epoch 31/100\n",
            "469/469 [==============================] - 4s 8ms/step - loss: 0.0947 - val_loss: 0.0944\n",
            "Epoch 32/100\n",
            "469/469 [==============================] - 4s 8ms/step - loss: 0.0947 - val_loss: 0.0946\n",
            "Epoch 33/100\n",
            "469/469 [==============================] - 4s 8ms/step - loss: 0.0945 - val_loss: 0.0950\n",
            "Epoch 34/100\n",
            "469/469 [==============================] - 4s 8ms/step - loss: 0.0948 - val_loss: 0.0944\n",
            "Epoch 35/100\n",
            "469/469 [==============================] - 4s 8ms/step - loss: 0.0946 - val_loss: 0.0944\n",
            "Epoch 36/100\n",
            "469/469 [==============================] - 4s 8ms/step - loss: 0.0947 - val_loss: 0.0942\n",
            "Epoch 37/100\n",
            "469/469 [==============================] - 4s 8ms/step - loss: 0.0943 - val_loss: 0.0944\n",
            "Epoch 38/100\n",
            "469/469 [==============================] - 4s 8ms/step - loss: 0.0945 - val_loss: 0.0946\n",
            "Epoch 39/100\n",
            "469/469 [==============================] - 4s 8ms/step - loss: 0.0943 - val_loss: 0.0945\n",
            "Epoch 40/100\n",
            "469/469 [==============================] - 4s 8ms/step - loss: 0.0944 - val_loss: 0.0943\n",
            "Epoch 41/100\n",
            "469/469 [==============================] - 4s 8ms/step - loss: 0.0944 - val_loss: 0.0942\n",
            "Epoch 42/100\n",
            "469/469 [==============================] - 4s 8ms/step - loss: 0.0942 - val_loss: 0.0940\n",
            "Epoch 43/100\n",
            "469/469 [==============================] - 4s 8ms/step - loss: 0.0943 - val_loss: 0.0940\n",
            "Epoch 44/100\n",
            "469/469 [==============================] - 4s 8ms/step - loss: 0.0944 - val_loss: 0.0939\n",
            "Epoch 45/100\n",
            "469/469 [==============================] - 4s 8ms/step - loss: 0.0943 - val_loss: 0.0940\n",
            "Epoch 46/100\n",
            "469/469 [==============================] - 4s 8ms/step - loss: 0.0941 - val_loss: 0.0940\n",
            "Epoch 47/100\n",
            "469/469 [==============================] - 4s 8ms/step - loss: 0.0940 - val_loss: 0.0942\n",
            "Epoch 48/100\n",
            "469/469 [==============================] - 4s 8ms/step - loss: 0.0941 - val_loss: 0.0940\n",
            "Epoch 49/100\n",
            "469/469 [==============================] - 4s 8ms/step - loss: 0.0940 - val_loss: 0.0942\n",
            "Epoch 50/100\n",
            "469/469 [==============================] - 4s 8ms/step - loss: 0.0941 - val_loss: 0.0939\n",
            "Epoch 51/100\n",
            "469/469 [==============================] - 4s 8ms/step - loss: 0.0941 - val_loss: 0.0940\n",
            "Epoch 52/100\n",
            "469/469 [==============================] - 4s 8ms/step - loss: 0.0939 - val_loss: 0.0937\n",
            "Epoch 53/100\n",
            "469/469 [==============================] - 4s 8ms/step - loss: 0.0939 - val_loss: 0.0938\n",
            "Epoch 54/100\n",
            "469/469 [==============================] - 4s 8ms/step - loss: 0.0940 - val_loss: 0.0939\n",
            "Epoch 55/100\n",
            "469/469 [==============================] - 4s 8ms/step - loss: 0.0939 - val_loss: 0.0937\n",
            "Epoch 56/100\n",
            "469/469 [==============================] - 4s 8ms/step - loss: 0.0941 - val_loss: 0.0937\n",
            "Epoch 57/100\n",
            "469/469 [==============================] - 4s 8ms/step - loss: 0.0937 - val_loss: 0.0937\n",
            "Epoch 58/100\n",
            "469/469 [==============================] - 4s 8ms/step - loss: 0.0938 - val_loss: 0.0939\n",
            "Epoch 59/100\n",
            "469/469 [==============================] - 4s 8ms/step - loss: 0.0939 - val_loss: 0.0937\n",
            "Epoch 60/100\n",
            "469/469 [==============================] - 4s 8ms/step - loss: 0.0939 - val_loss: 0.0938\n",
            "Epoch 61/100\n",
            "469/469 [==============================] - 4s 8ms/step - loss: 0.0938 - val_loss: 0.0937\n",
            "Epoch 62/100\n",
            "469/469 [==============================] - 4s 8ms/step - loss: 0.0939 - val_loss: 0.0937\n",
            "Epoch 63/100\n",
            "469/469 [==============================] - 4s 8ms/step - loss: 0.0938 - val_loss: 0.0942\n",
            "Epoch 64/100\n",
            "469/469 [==============================] - 4s 8ms/step - loss: 0.0939 - val_loss: 0.0936\n",
            "Epoch 65/100\n",
            "469/469 [==============================] - 4s 8ms/step - loss: 0.0937 - val_loss: 0.0938\n",
            "Epoch 66/100\n",
            "469/469 [==============================] - 4s 8ms/step - loss: 0.0938 - val_loss: 0.0939\n",
            "Epoch 67/100\n",
            "469/469 [==============================] - 4s 8ms/step - loss: 0.0938 - val_loss: 0.0936\n",
            "Epoch 68/100\n",
            "469/469 [==============================] - 4s 8ms/step - loss: 0.0936 - val_loss: 0.0937\n",
            "Epoch 69/100\n",
            "469/469 [==============================] - 4s 8ms/step - loss: 0.0938 - val_loss: 0.0935\n",
            "Epoch 70/100\n",
            "469/469 [==============================] - 4s 8ms/step - loss: 0.0936 - val_loss: 0.0937\n",
            "Epoch 71/100\n",
            "469/469 [==============================] - 4s 8ms/step - loss: 0.0936 - val_loss: 0.0937\n",
            "Epoch 72/100\n",
            "469/469 [==============================] - 4s 8ms/step - loss: 0.0936 - val_loss: 0.0936\n",
            "Epoch 73/100\n",
            "469/469 [==============================] - 4s 8ms/step - loss: 0.0935 - val_loss: 0.0935\n",
            "Epoch 74/100\n",
            "469/469 [==============================] - 4s 8ms/step - loss: 0.0937 - val_loss: 0.0939\n",
            "Epoch 75/100\n",
            "469/469 [==============================] - 4s 8ms/step - loss: 0.0936 - val_loss: 0.0935\n",
            "Epoch 76/100\n",
            "469/469 [==============================] - 4s 8ms/step - loss: 0.0936 - val_loss: 0.0936\n",
            "Epoch 77/100\n",
            "469/469 [==============================] - 4s 8ms/step - loss: 0.0937 - val_loss: 0.0935\n",
            "Epoch 78/100\n",
            "469/469 [==============================] - 4s 8ms/step - loss: 0.0935 - val_loss: 0.0936\n",
            "Epoch 79/100\n",
            "469/469 [==============================] - 4s 8ms/step - loss: 0.0938 - val_loss: 0.0938\n",
            "Epoch 80/100\n",
            "469/469 [==============================] - 4s 8ms/step - loss: 0.0935 - val_loss: 0.0941\n",
            "Epoch 81/100\n",
            "469/469 [==============================] - 4s 8ms/step - loss: 0.0936 - val_loss: 0.0935\n",
            "Epoch 82/100\n",
            "469/469 [==============================] - 4s 8ms/step - loss: 0.0934 - val_loss: 0.0934\n",
            "Epoch 83/100\n",
            "469/469 [==============================] - 4s 8ms/step - loss: 0.0935 - val_loss: 0.0935\n",
            "Epoch 84/100\n",
            "469/469 [==============================] - 4s 8ms/step - loss: 0.0935 - val_loss: 0.0935\n",
            "Epoch 85/100\n",
            "469/469 [==============================] - 4s 8ms/step - loss: 0.0936 - val_loss: 0.0936\n",
            "Epoch 86/100\n",
            "469/469 [==============================] - 4s 8ms/step - loss: 0.0934 - val_loss: 0.0936\n",
            "Epoch 87/100\n",
            "469/469 [==============================] - 4s 8ms/step - loss: 0.0935 - val_loss: 0.0935\n",
            "Epoch 88/100\n",
            "469/469 [==============================] - 4s 8ms/step - loss: 0.0938 - val_loss: 0.0941\n",
            "Epoch 89/100\n",
            "469/469 [==============================] - 4s 8ms/step - loss: 0.0934 - val_loss: 0.0934\n",
            "Epoch 90/100\n",
            "469/469 [==============================] - 4s 8ms/step - loss: 0.0935 - val_loss: 0.0935\n",
            "Epoch 91/100\n",
            "469/469 [==============================] - 4s 8ms/step - loss: 0.0936 - val_loss: 0.0934\n",
            "Epoch 92/100\n",
            "469/469 [==============================] - 4s 8ms/step - loss: 0.0935 - val_loss: 0.0938\n",
            "Epoch 93/100\n",
            "469/469 [==============================] - 4s 8ms/step - loss: 0.0935 - val_loss: 0.0935\n",
            "Epoch 94/100\n",
            "469/469 [==============================] - 4s 8ms/step - loss: 0.0934 - val_loss: 0.0934\n",
            "Epoch 95/100\n",
            "469/469 [==============================] - 4s 8ms/step - loss: 0.0936 - val_loss: 0.0935\n",
            "Epoch 96/100\n",
            "469/469 [==============================] - 4s 8ms/step - loss: 0.0936 - val_loss: 0.0934\n",
            "Epoch 97/100\n",
            "469/469 [==============================] - 4s 8ms/step - loss: 0.0934 - val_loss: 0.0935\n",
            "Epoch 98/100\n",
            "469/469 [==============================] - 4s 8ms/step - loss: 0.0935 - val_loss: 0.0940\n",
            "Epoch 99/100\n",
            "469/469 [==============================] - 4s 8ms/step - loss: 0.0936 - val_loss: 0.0934\n",
            "Epoch 100/100\n",
            "469/469 [==============================] - 4s 8ms/step - loss: 0.0933 - val_loss: 0.0934\n"
          ],
          "name": "stdout"
        },
        {
          "output_type": "execute_result",
          "data": {
            "text/plain": [
              "<keras.callbacks.History at 0x7f9b7808e4d0>"
            ]
          },
          "metadata": {
            "tags": []
          },
          "execution_count": 22
        }
      ]
    },
    {
      "cell_type": "code",
      "metadata": {
        "id": "cwrG1LLRO19H"
      },
      "source": [
        "timesteps = ...  # Length of your sequences\n",
        "input_dim = ... \n",
        "latent_dim = ...\n",
        "\n",
        "inputs = keras.Input(shape=(timesteps, input_dim))\n",
        "encoded = layers.LSTM(latent_dim)(inputs)\n",
        "\n",
        "decoded = layers.RepeatVector(timesteps)(encoded)\n",
        "decoded = layers.LSTM(input_dim, return_sequences=True)(decoded)\n",
        "\n",
        "sequence_autoencoder = keras.Model(inputs, decoded)\n",
        "encoder = keras.Model(inputs, encoded)"
      ],
      "execution_count": null,
      "outputs": []
    }
  ]
}