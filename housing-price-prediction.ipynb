{
  "nbformat": 4,
  "nbformat_minor": 0,
  "metadata": {
    "colab": {
      "name": "housing-price-prediction.ipynb",
      "provenance": [],
      "authorship_tag": "ABX9TyP5zzr5jnMnfvEDRF/usUrz",
      "include_colab_link": true
    },
    "kernelspec": {
      "name": "python3",
      "display_name": "Python 3"
    },
    "language_info": {
      "name": "python"
    },
    "accelerator": "GPU"
  },
  "cells": [
    {
      "cell_type": "markdown",
      "metadata": {
        "id": "view-in-github",
        "colab_type": "text"
      },
      "source": [
        "<a href=\"https://colab.research.google.com/github/abbas070/MITFutureMakers/blob/main/housing-price-prediction.ipynb\" target=\"_parent\"><img src=\"https://colab.research.google.com/assets/colab-badge.svg\" alt=\"Open In Colab\"/></a>"
      ]
    },
    {
      "cell_type": "markdown",
      "source": [
        "Trained model with 90.97% accuracy\n",
        "\n",
        "The dataset I used can be found here: https://drive.google.com/file/d/1GfvKA0qznNVknghV4botnNxyH-KvODOC/view."
      ],
      "metadata": {
        "id": "Jw0XAuCDqaDM"
      }
    },
    {
      "cell_type": "code",
      "execution_count": 2,
      "metadata": {
        "id": "Yn-QD3f0pctb"
      },
      "outputs": [],
      "source": [
        "# Import libraries\n",
        "import os\n",
        "import numpy as np\n",
        "import pandas as pd\n",
        "import seaborn as sns\n",
        "import tensorflow as tf\n",
        "import matplotlib.pyplot as plt\n",
        "\n",
        "from keras.regularizers import l2\n",
        "from tensorflow.keras.optimizers import Adam\n",
        "from keras.models import Sequential\n",
        "from keras.layers import Dense, Dropout\n",
        "from keras.utils.np_utils import to_categorical\n",
        "\n",
        "from sklearn import preprocessing\n",
        "from sklearn.model_selection import train_test_split\n",
        "from sklearn.metrics import confusion_matrix, precision_score, recall_score, f1_score"
      ]
    },
    {
      "cell_type": "code",
      "source": [
        "# Get dataset\n",
        "!gdown https://drive.google.com/uc?id=1GfvKA0qznNVknghV4botnNxyH-KvODOC"
      ],
      "metadata": {
        "colab": {
          "base_uri": "https://localhost:8080/"
        },
        "id": "bu1bBZkkpyRt",
        "outputId": "ec5f3d09-142a-4f8a-ef92-6f31f9576359"
      },
      "execution_count": 3,
      "outputs": [
        {
          "output_type": "stream",
          "name": "stdout",
          "text": [
            "Downloading...\n",
            "From: https://drive.google.com/uc?id=1GfvKA0qznNVknghV4botnNxyH-KvODOC\n",
            "To: /content/housepricedata.csv\n",
            "\r  0% 0.00/45.1k [00:00<?, ?B/s]\r100% 45.1k/45.1k [00:00<00:00, 65.1MB/s]\n"
          ]
        }
      ]
    },
    {
      "cell_type": "code",
      "source": [
        "df = pd.read_csv(\"/content/housepricedata.csv\")\n",
        "df.head()"
      ],
      "metadata": {
        "colab": {
          "base_uri": "https://localhost:8080/",
          "height": 270
        },
        "id": "gcmUSFfbp0Zt",
        "outputId": "95bb4cb3-6dba-45b9-f03c-e69a0f18cd04"
      },
      "execution_count": 4,
      "outputs": [
        {
          "output_type": "execute_result",
          "data": {
            "text/plain": [
              "   LotArea  OverallQual  OverallCond  TotalBsmtSF  FullBath  HalfBath  \\\n",
              "0     8450            7            5          856         2         1   \n",
              "1     9600            6            8         1262         2         0   \n",
              "2    11250            7            5          920         2         1   \n",
              "3     9550            7            5          756         1         0   \n",
              "4    14260            8            5         1145         2         1   \n",
              "\n",
              "   BedroomAbvGr  TotRmsAbvGrd  Fireplaces  GarageArea  AboveMedianPrice  \n",
              "0             3             8           0         548                 1  \n",
              "1             3             6           1         460                 1  \n",
              "2             3             6           1         608                 1  \n",
              "3             3             7           1         642                 0  \n",
              "4             4             9           1         836                 1  "
            ],
            "text/html": [
              "\n",
              "  <div id=\"df-c7c72bf9-46f5-46b5-9ecc-bfea7402b5d9\">\n",
              "    <div class=\"colab-df-container\">\n",
              "      <div>\n",
              "<style scoped>\n",
              "    .dataframe tbody tr th:only-of-type {\n",
              "        vertical-align: middle;\n",
              "    }\n",
              "\n",
              "    .dataframe tbody tr th {\n",
              "        vertical-align: top;\n",
              "    }\n",
              "\n",
              "    .dataframe thead th {\n",
              "        text-align: right;\n",
              "    }\n",
              "</style>\n",
              "<table border=\"1\" class=\"dataframe\">\n",
              "  <thead>\n",
              "    <tr style=\"text-align: right;\">\n",
              "      <th></th>\n",
              "      <th>LotArea</th>\n",
              "      <th>OverallQual</th>\n",
              "      <th>OverallCond</th>\n",
              "      <th>TotalBsmtSF</th>\n",
              "      <th>FullBath</th>\n",
              "      <th>HalfBath</th>\n",
              "      <th>BedroomAbvGr</th>\n",
              "      <th>TotRmsAbvGrd</th>\n",
              "      <th>Fireplaces</th>\n",
              "      <th>GarageArea</th>\n",
              "      <th>AboveMedianPrice</th>\n",
              "    </tr>\n",
              "  </thead>\n",
              "  <tbody>\n",
              "    <tr>\n",
              "      <th>0</th>\n",
              "      <td>8450</td>\n",
              "      <td>7</td>\n",
              "      <td>5</td>\n",
              "      <td>856</td>\n",
              "      <td>2</td>\n",
              "      <td>1</td>\n",
              "      <td>3</td>\n",
              "      <td>8</td>\n",
              "      <td>0</td>\n",
              "      <td>548</td>\n",
              "      <td>1</td>\n",
              "    </tr>\n",
              "    <tr>\n",
              "      <th>1</th>\n",
              "      <td>9600</td>\n",
              "      <td>6</td>\n",
              "      <td>8</td>\n",
              "      <td>1262</td>\n",
              "      <td>2</td>\n",
              "      <td>0</td>\n",
              "      <td>3</td>\n",
              "      <td>6</td>\n",
              "      <td>1</td>\n",
              "      <td>460</td>\n",
              "      <td>1</td>\n",
              "    </tr>\n",
              "    <tr>\n",
              "      <th>2</th>\n",
              "      <td>11250</td>\n",
              "      <td>7</td>\n",
              "      <td>5</td>\n",
              "      <td>920</td>\n",
              "      <td>2</td>\n",
              "      <td>1</td>\n",
              "      <td>3</td>\n",
              "      <td>6</td>\n",
              "      <td>1</td>\n",
              "      <td>608</td>\n",
              "      <td>1</td>\n",
              "    </tr>\n",
              "    <tr>\n",
              "      <th>3</th>\n",
              "      <td>9550</td>\n",
              "      <td>7</td>\n",
              "      <td>5</td>\n",
              "      <td>756</td>\n",
              "      <td>1</td>\n",
              "      <td>0</td>\n",
              "      <td>3</td>\n",
              "      <td>7</td>\n",
              "      <td>1</td>\n",
              "      <td>642</td>\n",
              "      <td>0</td>\n",
              "    </tr>\n",
              "    <tr>\n",
              "      <th>4</th>\n",
              "      <td>14260</td>\n",
              "      <td>8</td>\n",
              "      <td>5</td>\n",
              "      <td>1145</td>\n",
              "      <td>2</td>\n",
              "      <td>1</td>\n",
              "      <td>4</td>\n",
              "      <td>9</td>\n",
              "      <td>1</td>\n",
              "      <td>836</td>\n",
              "      <td>1</td>\n",
              "    </tr>\n",
              "  </tbody>\n",
              "</table>\n",
              "</div>\n",
              "      <button class=\"colab-df-convert\" onclick=\"convertToInteractive('df-c7c72bf9-46f5-46b5-9ecc-bfea7402b5d9')\"\n",
              "              title=\"Convert this dataframe to an interactive table.\"\n",
              "              style=\"display:none;\">\n",
              "        \n",
              "  <svg xmlns=\"http://www.w3.org/2000/svg\" height=\"24px\"viewBox=\"0 0 24 24\"\n",
              "       width=\"24px\">\n",
              "    <path d=\"M0 0h24v24H0V0z\" fill=\"none\"/>\n",
              "    <path d=\"M18.56 5.44l.94 2.06.94-2.06 2.06-.94-2.06-.94-.94-2.06-.94 2.06-2.06.94zm-11 1L8.5 8.5l.94-2.06 2.06-.94-2.06-.94L8.5 2.5l-.94 2.06-2.06.94zm10 10l.94 2.06.94-2.06 2.06-.94-2.06-.94-.94-2.06-.94 2.06-2.06.94z\"/><path d=\"M17.41 7.96l-1.37-1.37c-.4-.4-.92-.59-1.43-.59-.52 0-1.04.2-1.43.59L10.3 9.45l-7.72 7.72c-.78.78-.78 2.05 0 2.83L4 21.41c.39.39.9.59 1.41.59.51 0 1.02-.2 1.41-.59l7.78-7.78 2.81-2.81c.8-.78.8-2.07 0-2.86zM5.41 20L4 18.59l7.72-7.72 1.47 1.35L5.41 20z\"/>\n",
              "  </svg>\n",
              "      </button>\n",
              "      \n",
              "  <style>\n",
              "    .colab-df-container {\n",
              "      display:flex;\n",
              "      flex-wrap:wrap;\n",
              "      gap: 12px;\n",
              "    }\n",
              "\n",
              "    .colab-df-convert {\n",
              "      background-color: #E8F0FE;\n",
              "      border: none;\n",
              "      border-radius: 50%;\n",
              "      cursor: pointer;\n",
              "      display: none;\n",
              "      fill: #1967D2;\n",
              "      height: 32px;\n",
              "      padding: 0 0 0 0;\n",
              "      width: 32px;\n",
              "    }\n",
              "\n",
              "    .colab-df-convert:hover {\n",
              "      background-color: #E2EBFA;\n",
              "      box-shadow: 0px 1px 2px rgba(60, 64, 67, 0.3), 0px 1px 3px 1px rgba(60, 64, 67, 0.15);\n",
              "      fill: #174EA6;\n",
              "    }\n",
              "\n",
              "    [theme=dark] .colab-df-convert {\n",
              "      background-color: #3B4455;\n",
              "      fill: #D2E3FC;\n",
              "    }\n",
              "\n",
              "    [theme=dark] .colab-df-convert:hover {\n",
              "      background-color: #434B5C;\n",
              "      box-shadow: 0px 1px 3px 1px rgba(0, 0, 0, 0.15);\n",
              "      filter: drop-shadow(0px 1px 2px rgba(0, 0, 0, 0.3));\n",
              "      fill: #FFFFFF;\n",
              "    }\n",
              "  </style>\n",
              "\n",
              "      <script>\n",
              "        const buttonEl =\n",
              "          document.querySelector('#df-c7c72bf9-46f5-46b5-9ecc-bfea7402b5d9 button.colab-df-convert');\n",
              "        buttonEl.style.display =\n",
              "          google.colab.kernel.accessAllowed ? 'block' : 'none';\n",
              "\n",
              "        async function convertToInteractive(key) {\n",
              "          const element = document.querySelector('#df-c7c72bf9-46f5-46b5-9ecc-bfea7402b5d9');\n",
              "          const dataTable =\n",
              "            await google.colab.kernel.invokeFunction('convertToInteractive',\n",
              "                                                     [key], {});\n",
              "          if (!dataTable) return;\n",
              "\n",
              "          const docLinkHtml = 'Like what you see? Visit the ' +\n",
              "            '<a target=\"_blank\" href=https://colab.research.google.com/notebooks/data_table.ipynb>data table notebook</a>'\n",
              "            + ' to learn more about interactive tables.';\n",
              "          element.innerHTML = '';\n",
              "          dataTable['output_type'] = 'display_data';\n",
              "          await google.colab.output.renderOutput(dataTable, element);\n",
              "          const docLink = document.createElement('div');\n",
              "          docLink.innerHTML = docLinkHtml;\n",
              "          element.appendChild(docLink);\n",
              "        }\n",
              "      </script>\n",
              "    </div>\n",
              "  </div>\n",
              "  "
            ]
          },
          "metadata": {},
          "execution_count": 4
        }
      ]
    },
    {
      "cell_type": "code",
      "source": [
        "df.describe()\n"
      ],
      "metadata": {
        "colab": {
          "base_uri": "https://localhost:8080/",
          "height": 364
        },
        "id": "nAtpZscbp2oW",
        "outputId": "fd1bc4ba-ea7f-4675-ed6c-a665c46e2d4e"
      },
      "execution_count": 5,
      "outputs": [
        {
          "output_type": "execute_result",
          "data": {
            "text/plain": [
              "             LotArea  OverallQual  OverallCond  TotalBsmtSF     FullBath  \\\n",
              "count    1460.000000  1460.000000  1460.000000  1460.000000  1460.000000   \n",
              "mean    10516.828082     6.099315     5.575342  1057.429452     1.565068   \n",
              "std      9981.264932     1.382997     1.112799   438.705324     0.550916   \n",
              "min      1300.000000     1.000000     1.000000     0.000000     0.000000   \n",
              "25%      7553.500000     5.000000     5.000000   795.750000     1.000000   \n",
              "50%      9478.500000     6.000000     5.000000   991.500000     2.000000   \n",
              "75%     11601.500000     7.000000     6.000000  1298.250000     2.000000   \n",
              "max    215245.000000    10.000000     9.000000  6110.000000     3.000000   \n",
              "\n",
              "          HalfBath  BedroomAbvGr  TotRmsAbvGrd   Fireplaces   GarageArea  \\\n",
              "count  1460.000000   1460.000000   1460.000000  1460.000000  1460.000000   \n",
              "mean      0.382877      2.866438      6.517808     0.613014   472.980137   \n",
              "std       0.502885      0.815778      1.625393     0.644666   213.804841   \n",
              "min       0.000000      0.000000      2.000000     0.000000     0.000000   \n",
              "25%       0.000000      2.000000      5.000000     0.000000   334.500000   \n",
              "50%       0.000000      3.000000      6.000000     1.000000   480.000000   \n",
              "75%       1.000000      3.000000      7.000000     1.000000   576.000000   \n",
              "max       2.000000      8.000000     14.000000     3.000000  1418.000000   \n",
              "\n",
              "       AboveMedianPrice  \n",
              "count       1460.000000  \n",
              "mean           0.498630  \n",
              "std            0.500169  \n",
              "min            0.000000  \n",
              "25%            0.000000  \n",
              "50%            0.000000  \n",
              "75%            1.000000  \n",
              "max            1.000000  "
            ],
            "text/html": [
              "\n",
              "  <div id=\"df-e3aaeb90-f490-4244-a180-0f7e0e281f65\">\n",
              "    <div class=\"colab-df-container\">\n",
              "      <div>\n",
              "<style scoped>\n",
              "    .dataframe tbody tr th:only-of-type {\n",
              "        vertical-align: middle;\n",
              "    }\n",
              "\n",
              "    .dataframe tbody tr th {\n",
              "        vertical-align: top;\n",
              "    }\n",
              "\n",
              "    .dataframe thead th {\n",
              "        text-align: right;\n",
              "    }\n",
              "</style>\n",
              "<table border=\"1\" class=\"dataframe\">\n",
              "  <thead>\n",
              "    <tr style=\"text-align: right;\">\n",
              "      <th></th>\n",
              "      <th>LotArea</th>\n",
              "      <th>OverallQual</th>\n",
              "      <th>OverallCond</th>\n",
              "      <th>TotalBsmtSF</th>\n",
              "      <th>FullBath</th>\n",
              "      <th>HalfBath</th>\n",
              "      <th>BedroomAbvGr</th>\n",
              "      <th>TotRmsAbvGrd</th>\n",
              "      <th>Fireplaces</th>\n",
              "      <th>GarageArea</th>\n",
              "      <th>AboveMedianPrice</th>\n",
              "    </tr>\n",
              "  </thead>\n",
              "  <tbody>\n",
              "    <tr>\n",
              "      <th>count</th>\n",
              "      <td>1460.000000</td>\n",
              "      <td>1460.000000</td>\n",
              "      <td>1460.000000</td>\n",
              "      <td>1460.000000</td>\n",
              "      <td>1460.000000</td>\n",
              "      <td>1460.000000</td>\n",
              "      <td>1460.000000</td>\n",
              "      <td>1460.000000</td>\n",
              "      <td>1460.000000</td>\n",
              "      <td>1460.000000</td>\n",
              "      <td>1460.000000</td>\n",
              "    </tr>\n",
              "    <tr>\n",
              "      <th>mean</th>\n",
              "      <td>10516.828082</td>\n",
              "      <td>6.099315</td>\n",
              "      <td>5.575342</td>\n",
              "      <td>1057.429452</td>\n",
              "      <td>1.565068</td>\n",
              "      <td>0.382877</td>\n",
              "      <td>2.866438</td>\n",
              "      <td>6.517808</td>\n",
              "      <td>0.613014</td>\n",
              "      <td>472.980137</td>\n",
              "      <td>0.498630</td>\n",
              "    </tr>\n",
              "    <tr>\n",
              "      <th>std</th>\n",
              "      <td>9981.264932</td>\n",
              "      <td>1.382997</td>\n",
              "      <td>1.112799</td>\n",
              "      <td>438.705324</td>\n",
              "      <td>0.550916</td>\n",
              "      <td>0.502885</td>\n",
              "      <td>0.815778</td>\n",
              "      <td>1.625393</td>\n",
              "      <td>0.644666</td>\n",
              "      <td>213.804841</td>\n",
              "      <td>0.500169</td>\n",
              "    </tr>\n",
              "    <tr>\n",
              "      <th>min</th>\n",
              "      <td>1300.000000</td>\n",
              "      <td>1.000000</td>\n",
              "      <td>1.000000</td>\n",
              "      <td>0.000000</td>\n",
              "      <td>0.000000</td>\n",
              "      <td>0.000000</td>\n",
              "      <td>0.000000</td>\n",
              "      <td>2.000000</td>\n",
              "      <td>0.000000</td>\n",
              "      <td>0.000000</td>\n",
              "      <td>0.000000</td>\n",
              "    </tr>\n",
              "    <tr>\n",
              "      <th>25%</th>\n",
              "      <td>7553.500000</td>\n",
              "      <td>5.000000</td>\n",
              "      <td>5.000000</td>\n",
              "      <td>795.750000</td>\n",
              "      <td>1.000000</td>\n",
              "      <td>0.000000</td>\n",
              "      <td>2.000000</td>\n",
              "      <td>5.000000</td>\n",
              "      <td>0.000000</td>\n",
              "      <td>334.500000</td>\n",
              "      <td>0.000000</td>\n",
              "    </tr>\n",
              "    <tr>\n",
              "      <th>50%</th>\n",
              "      <td>9478.500000</td>\n",
              "      <td>6.000000</td>\n",
              "      <td>5.000000</td>\n",
              "      <td>991.500000</td>\n",
              "      <td>2.000000</td>\n",
              "      <td>0.000000</td>\n",
              "      <td>3.000000</td>\n",
              "      <td>6.000000</td>\n",
              "      <td>1.000000</td>\n",
              "      <td>480.000000</td>\n",
              "      <td>0.000000</td>\n",
              "    </tr>\n",
              "    <tr>\n",
              "      <th>75%</th>\n",
              "      <td>11601.500000</td>\n",
              "      <td>7.000000</td>\n",
              "      <td>6.000000</td>\n",
              "      <td>1298.250000</td>\n",
              "      <td>2.000000</td>\n",
              "      <td>1.000000</td>\n",
              "      <td>3.000000</td>\n",
              "      <td>7.000000</td>\n",
              "      <td>1.000000</td>\n",
              "      <td>576.000000</td>\n",
              "      <td>1.000000</td>\n",
              "    </tr>\n",
              "    <tr>\n",
              "      <th>max</th>\n",
              "      <td>215245.000000</td>\n",
              "      <td>10.000000</td>\n",
              "      <td>9.000000</td>\n",
              "      <td>6110.000000</td>\n",
              "      <td>3.000000</td>\n",
              "      <td>2.000000</td>\n",
              "      <td>8.000000</td>\n",
              "      <td>14.000000</td>\n",
              "      <td>3.000000</td>\n",
              "      <td>1418.000000</td>\n",
              "      <td>1.000000</td>\n",
              "    </tr>\n",
              "  </tbody>\n",
              "</table>\n",
              "</div>\n",
              "      <button class=\"colab-df-convert\" onclick=\"convertToInteractive('df-e3aaeb90-f490-4244-a180-0f7e0e281f65')\"\n",
              "              title=\"Convert this dataframe to an interactive table.\"\n",
              "              style=\"display:none;\">\n",
              "        \n",
              "  <svg xmlns=\"http://www.w3.org/2000/svg\" height=\"24px\"viewBox=\"0 0 24 24\"\n",
              "       width=\"24px\">\n",
              "    <path d=\"M0 0h24v24H0V0z\" fill=\"none\"/>\n",
              "    <path d=\"M18.56 5.44l.94 2.06.94-2.06 2.06-.94-2.06-.94-.94-2.06-.94 2.06-2.06.94zm-11 1L8.5 8.5l.94-2.06 2.06-.94-2.06-.94L8.5 2.5l-.94 2.06-2.06.94zm10 10l.94 2.06.94-2.06 2.06-.94-2.06-.94-.94-2.06-.94 2.06-2.06.94z\"/><path d=\"M17.41 7.96l-1.37-1.37c-.4-.4-.92-.59-1.43-.59-.52 0-1.04.2-1.43.59L10.3 9.45l-7.72 7.72c-.78.78-.78 2.05 0 2.83L4 21.41c.39.39.9.59 1.41.59.51 0 1.02-.2 1.41-.59l7.78-7.78 2.81-2.81c.8-.78.8-2.07 0-2.86zM5.41 20L4 18.59l7.72-7.72 1.47 1.35L5.41 20z\"/>\n",
              "  </svg>\n",
              "      </button>\n",
              "      \n",
              "  <style>\n",
              "    .colab-df-container {\n",
              "      display:flex;\n",
              "      flex-wrap:wrap;\n",
              "      gap: 12px;\n",
              "    }\n",
              "\n",
              "    .colab-df-convert {\n",
              "      background-color: #E8F0FE;\n",
              "      border: none;\n",
              "      border-radius: 50%;\n",
              "      cursor: pointer;\n",
              "      display: none;\n",
              "      fill: #1967D2;\n",
              "      height: 32px;\n",
              "      padding: 0 0 0 0;\n",
              "      width: 32px;\n",
              "    }\n",
              "\n",
              "    .colab-df-convert:hover {\n",
              "      background-color: #E2EBFA;\n",
              "      box-shadow: 0px 1px 2px rgba(60, 64, 67, 0.3), 0px 1px 3px 1px rgba(60, 64, 67, 0.15);\n",
              "      fill: #174EA6;\n",
              "    }\n",
              "\n",
              "    [theme=dark] .colab-df-convert {\n",
              "      background-color: #3B4455;\n",
              "      fill: #D2E3FC;\n",
              "    }\n",
              "\n",
              "    [theme=dark] .colab-df-convert:hover {\n",
              "      background-color: #434B5C;\n",
              "      box-shadow: 0px 1px 3px 1px rgba(0, 0, 0, 0.15);\n",
              "      filter: drop-shadow(0px 1px 2px rgba(0, 0, 0, 0.3));\n",
              "      fill: #FFFFFF;\n",
              "    }\n",
              "  </style>\n",
              "\n",
              "      <script>\n",
              "        const buttonEl =\n",
              "          document.querySelector('#df-e3aaeb90-f490-4244-a180-0f7e0e281f65 button.colab-df-convert');\n",
              "        buttonEl.style.display =\n",
              "          google.colab.kernel.accessAllowed ? 'block' : 'none';\n",
              "\n",
              "        async function convertToInteractive(key) {\n",
              "          const element = document.querySelector('#df-e3aaeb90-f490-4244-a180-0f7e0e281f65');\n",
              "          const dataTable =\n",
              "            await google.colab.kernel.invokeFunction('convertToInteractive',\n",
              "                                                     [key], {});\n",
              "          if (!dataTable) return;\n",
              "\n",
              "          const docLinkHtml = 'Like what you see? Visit the ' +\n",
              "            '<a target=\"_blank\" href=https://colab.research.google.com/notebooks/data_table.ipynb>data table notebook</a>'\n",
              "            + ' to learn more about interactive tables.';\n",
              "          element.innerHTML = '';\n",
              "          dataTable['output_type'] = 'display_data';\n",
              "          await google.colab.output.renderOutput(dataTable, element);\n",
              "          const docLink = document.createElement('div');\n",
              "          docLink.innerHTML = docLinkHtml;\n",
              "          element.appendChild(docLink);\n",
              "        }\n",
              "      </script>\n",
              "    </div>\n",
              "  </div>\n",
              "  "
            ]
          },
          "metadata": {},
          "execution_count": 5
        }
      ]
    },
    {
      "cell_type": "code",
      "source": [
        "sns.countplot(x=\"AboveMedianPrice\", data=df)\n"
      ],
      "metadata": {
        "colab": {
          "base_uri": "https://localhost:8080/",
          "height": 296
        },
        "id": "T9jPv24Bp3Yt",
        "outputId": "aced0382-9e33-422f-9bf7-aa659f89572a"
      },
      "execution_count": 6,
      "outputs": [
        {
          "output_type": "execute_result",
          "data": {
            "text/plain": [
              "<matplotlib.axes._subplots.AxesSubplot at 0x7efff8334090>"
            ]
          },
          "metadata": {},
          "execution_count": 6
        },
        {
          "output_type": "display_data",
          "data": {
            "text/plain": [
              "<Figure size 432x288 with 1 Axes>"
            ],
            "image/png": "[encoded data removed]"
          },
          "metadata": {
            "needs_background": "light"
          }
        }
      ]
    },
    {
      "cell_type": "code",
      "source": [
        "# Get Xs and ys\n",
        "X = df.drop(columns=[\"AboveMedianPrice\"])\n",
        "y = df[\"AboveMedianPrice\"]"
      ],
      "metadata": {
        "id": "BJ7AhTycp5HR"
      },
      "execution_count": 7,
      "outputs": []
    },
    {
      "cell_type": "code",
      "source": [
        "# Scale input\n",
        "min_max_scaler = preprocessing.MinMaxScaler()\n",
        "X = min_max_scaler.fit_transform(X)"
      ],
      "metadata": {
        "id": "7uFObbxLp6xc"
      },
      "execution_count": 8,
      "outputs": []
    },
    {
      "cell_type": "code",
      "source": [
        "# Split the data into train and test\n",
        "X_train, X_test, y_train, y_test = train_test_split(X, y, train_size=0.8, random_state=42)\n",
        "\n",
        "print(X_train.shape, y_train.shape)"
      ],
      "metadata": {
        "colab": {
          "base_uri": "https://localhost:8080/"
        },
        "id": "sufURe69p8yt",
        "outputId": "d7be9bff-a860-486a-b4a0-4de2b8ee4e7f"
      },
      "execution_count": 9,
      "outputs": [
        {
          "output_type": "stream",
          "name": "stdout",
          "text": [
            "(1168, 10) (1168,)\n"
          ]
        }
      ]
    },
    {
      "cell_type": "code",
      "source": [
        "y_train = to_categorical(y_train, 2)\n",
        "y_test = to_categorical(y_test, 2)\n",
        "\n",
        "print(y_train.shape)"
      ],
      "metadata": {
        "colab": {
          "base_uri": "https://localhost:8080/"
        },
        "id": "1yBiwHP5p-vF",
        "outputId": "99a4cc64-aafe-48e0-98c7-7d11e2415a90"
      },
      "execution_count": 10,
      "outputs": [
        {
          "output_type": "stream",
          "name": "stdout",
          "text": [
            "(1168, 2)\n"
          ]
        }
      ]
    },
    {
      "cell_type": "code",
      "source": [
        "# Define the model\n",
        "model = Sequential()\n",
        "model.add(Dense(256, activation='relu', kernel_regularizer=l2(0.001), input_shape=(X_train.shape[1],)))\n",
        "model.add(Dropout(0.5))\n",
        "\n",
        "model.add(Dense(64, activation='relu', kernel_regularizer=l2(0.001)))\n",
        "model.add(Dropout(0.4))\n",
        "\n",
        "model.add(Dense(64, activation='relu', kernel_regularizer=l2(0.001)))\n",
        "model.add(Dropout(0.3))\n",
        "\n",
        "model.add(Dense(y_train.shape[1], activation='sigmoid'))\n",
        "\n",
        "opt = Adam(learning_rate=0.00107)\n",
        "\n",
        "# Train the model\n",
        "model.compile(\n",
        "  loss='binary_crossentropy',\n",
        "  optimizer=opt,\n",
        "  metrics=['acc']\n",
        ")\n",
        "                   \n",
        "history = model.fit(\n",
        "  X_train, y_train,\n",
        "  epochs=100, \n",
        "  batch_size=32,\n",
        "  validation_split=0.15,\n",
        "  shuffle=True\n",
        ")"
      ],
      "metadata": {
        "colab": {
          "base_uri": "https://localhost:8080/"
        },
        "id": "tqKBVP6IqAaV",
        "outputId": "26c16b81-b3b4-4816-b762-4617b986f43f"
      },
      "execution_count": 11,
      "outputs": [
        {
          "output_type": "stream",
          "name": "stdout",
          "text": [
            "Epoch 1/100\n",
            "31/31 [==============================] - 4s 13ms/step - loss: 0.8295 - acc: 0.6089 - val_loss: 0.7778 - val_acc: 0.5568\n",
            "Epoch 2/100\n",
            "31/31 [==============================] - 0s 4ms/step - loss: 0.7146 - acc: 0.7117 - val_loss: 0.6166 - val_acc: 0.8125\n",
            "Epoch 3/100\n",
            "31/31 [==============================] - 0s 3ms/step - loss: 0.5550 - acc: 0.8226 - val_loss: 0.5155 - val_acc: 0.7614\n",
            "Epoch 4/100\n",
            "31/31 [==============================] - 0s 3ms/step - loss: 0.4870 - acc: 0.8327 - val_loss: 0.4511 - val_acc: 0.8295\n",
            "Epoch 5/100\n",
            "31/31 [==============================] - 0s 4ms/step - loss: 0.4548 - acc: 0.8569 - val_loss: 0.4397 - val_acc: 0.8466\n",
            "Epoch 6/100\n",
            "31/31 [==============================] - 0s 3ms/step - loss: 0.4529 - acc: 0.8528 - val_loss: 0.4163 - val_acc: 0.8352\n",
            "Epoch 7/100\n",
            "31/31 [==============================] - 0s 3ms/step - loss: 0.4249 - acc: 0.8659 - val_loss: 0.4286 - val_acc: 0.8466\n",
            "Epoch 8/100\n",
            "31/31 [==============================] - 0s 3ms/step - loss: 0.4068 - acc: 0.8649 - val_loss: 0.3864 - val_acc: 0.8409\n",
            "Epoch 9/100\n",
            "31/31 [==============================] - 0s 3ms/step - loss: 0.3962 - acc: 0.8690 - val_loss: 0.3821 - val_acc: 0.8636\n",
            "Epoch 10/100\n",
            "31/31 [==============================] - 0s 3ms/step - loss: 0.4120 - acc: 0.8508 - val_loss: 0.3844 - val_acc: 0.8693\n",
            "Epoch 11/100\n",
            "31/31 [==============================] - 0s 4ms/step - loss: 0.3928 - acc: 0.8810 - val_loss: 0.3640 - val_acc: 0.8523\n",
            "Epoch 12/100\n",
            "31/31 [==============================] - 0s 3ms/step - loss: 0.3745 - acc: 0.8810 - val_loss: 0.3668 - val_acc: 0.8409\n",
            "Epoch 13/100\n",
            "31/31 [==============================] - 0s 4ms/step - loss: 0.3713 - acc: 0.8760 - val_loss: 0.3624 - val_acc: 0.8580\n",
            "Epoch 14/100\n",
            "31/31 [==============================] - 0s 3ms/step - loss: 0.3857 - acc: 0.8790 - val_loss: 0.3463 - val_acc: 0.8807\n",
            "Epoch 15/100\n",
            "31/31 [==============================] - 0s 4ms/step - loss: 0.3650 - acc: 0.8831 - val_loss: 0.3355 - val_acc: 0.8693\n",
            "Epoch 16/100\n",
            "31/31 [==============================] - 0s 3ms/step - loss: 0.3663 - acc: 0.8810 - val_loss: 0.3449 - val_acc: 0.8580\n",
            "Epoch 17/100\n",
            "31/31 [==============================] - 0s 4ms/step - loss: 0.3635 - acc: 0.8800 - val_loss: 0.3347 - val_acc: 0.8636\n",
            "Epoch 18/100\n",
            "31/31 [==============================] - 0s 3ms/step - loss: 0.3616 - acc: 0.8790 - val_loss: 0.3403 - val_acc: 0.8636\n",
            "Epoch 19/100\n",
            "31/31 [==============================] - 0s 3ms/step - loss: 0.3580 - acc: 0.8740 - val_loss: 0.3279 - val_acc: 0.8693\n",
            "Epoch 20/100\n",
            "31/31 [==============================] - 0s 3ms/step - loss: 0.3549 - acc: 0.8770 - val_loss: 0.3191 - val_acc: 0.8807\n",
            "Epoch 21/100\n",
            "31/31 [==============================] - 0s 3ms/step - loss: 0.3570 - acc: 0.8821 - val_loss: 0.3165 - val_acc: 0.8807\n",
            "Epoch 22/100\n",
            "31/31 [==============================] - 0s 3ms/step - loss: 0.3399 - acc: 0.8881 - val_loss: 0.3098 - val_acc: 0.8920\n",
            "Epoch 23/100\n",
            "31/31 [==============================] - 0s 3ms/step - loss: 0.3384 - acc: 0.8881 - val_loss: 0.3117 - val_acc: 0.8977\n",
            "Epoch 24/100\n",
            "31/31 [==============================] - 0s 3ms/step - loss: 0.3393 - acc: 0.8871 - val_loss: 0.3074 - val_acc: 0.8864\n",
            "Epoch 25/100\n",
            "31/31 [==============================] - 0s 3ms/step - loss: 0.3522 - acc: 0.8821 - val_loss: 0.3058 - val_acc: 0.8864\n",
            "Epoch 26/100\n",
            "31/31 [==============================] - 0s 3ms/step - loss: 0.3376 - acc: 0.8952 - val_loss: 0.3096 - val_acc: 0.8807\n",
            "Epoch 27/100\n",
            "31/31 [==============================] - 0s 3ms/step - loss: 0.3243 - acc: 0.8931 - val_loss: 0.2994 - val_acc: 0.8920\n",
            "Epoch 28/100\n",
            "31/31 [==============================] - 0s 4ms/step - loss: 0.3282 - acc: 0.8851 - val_loss: 0.2983 - val_acc: 0.8977\n",
            "Epoch 29/100\n",
            "31/31 [==============================] - 0s 4ms/step - loss: 0.3307 - acc: 0.8821 - val_loss: 0.3211 - val_acc: 0.8864\n",
            "Epoch 30/100\n",
            "31/31 [==============================] - 0s 3ms/step - loss: 0.3239 - acc: 0.8901 - val_loss: 0.2961 - val_acc: 0.9034\n",
            "Epoch 31/100\n",
            "31/31 [==============================] - 0s 3ms/step - loss: 0.3192 - acc: 0.8921 - val_loss: 0.2957 - val_acc: 0.9034\n",
            "Epoch 32/100\n",
            "31/31 [==============================] - 0s 3ms/step - loss: 0.3251 - acc: 0.8901 - val_loss: 0.2908 - val_acc: 0.8977\n",
            "Epoch 33/100\n",
            "31/31 [==============================] - 0s 3ms/step - loss: 0.3250 - acc: 0.8871 - val_loss: 0.2960 - val_acc: 0.8977\n",
            "Epoch 34/100\n",
            "31/31 [==============================] - 0s 4ms/step - loss: 0.3182 - acc: 0.8851 - val_loss: 0.2889 - val_acc: 0.9034\n",
            "Epoch 35/100\n",
            "31/31 [==============================] - 0s 4ms/step - loss: 0.3224 - acc: 0.8861 - val_loss: 0.3082 - val_acc: 0.8920\n",
            "Epoch 36/100\n",
            "31/31 [==============================] - 0s 3ms/step - loss: 0.3092 - acc: 0.8952 - val_loss: 0.2949 - val_acc: 0.8920\n",
            "Epoch 37/100\n",
            "31/31 [==============================] - 0s 4ms/step - loss: 0.3189 - acc: 0.8972 - val_loss: 0.2884 - val_acc: 0.9034\n",
            "Epoch 38/100\n",
            "31/31 [==============================] - 0s 3ms/step - loss: 0.3067 - acc: 0.8992 - val_loss: 0.3030 - val_acc: 0.8977\n",
            "Epoch 39/100\n",
            "31/31 [==============================] - 0s 4ms/step - loss: 0.3174 - acc: 0.8831 - val_loss: 0.2895 - val_acc: 0.8977\n",
            "Epoch 40/100\n",
            "31/31 [==============================] - 0s 3ms/step - loss: 0.3126 - acc: 0.8911 - val_loss: 0.2974 - val_acc: 0.8920\n",
            "Epoch 41/100\n",
            "31/31 [==============================] - 0s 3ms/step - loss: 0.3103 - acc: 0.8952 - val_loss: 0.2857 - val_acc: 0.8977\n",
            "Epoch 42/100\n",
            "31/31 [==============================] - 0s 3ms/step - loss: 0.3247 - acc: 0.8821 - val_loss: 0.2951 - val_acc: 0.9034\n",
            "Epoch 43/100\n",
            "31/31 [==============================] - 0s 3ms/step - loss: 0.3175 - acc: 0.8871 - val_loss: 0.2868 - val_acc: 0.8977\n",
            "Epoch 44/100\n",
            "31/31 [==============================] - 0s 3ms/step - loss: 0.3063 - acc: 0.8942 - val_loss: 0.2828 - val_acc: 0.9034\n",
            "Epoch 45/100\n",
            "31/31 [==============================] - 0s 3ms/step - loss: 0.3149 - acc: 0.8881 - val_loss: 0.2850 - val_acc: 0.9034\n",
            "Epoch 46/100\n",
            "31/31 [==============================] - 0s 4ms/step - loss: 0.3008 - acc: 0.8921 - val_loss: 0.2870 - val_acc: 0.9091\n",
            "Epoch 47/100\n",
            "31/31 [==============================] - 0s 4ms/step - loss: 0.3049 - acc: 0.8861 - val_loss: 0.2965 - val_acc: 0.8977\n",
            "Epoch 48/100\n",
            "31/31 [==============================] - 0s 3ms/step - loss: 0.3056 - acc: 0.8911 - val_loss: 0.3000 - val_acc: 0.8920\n",
            "Epoch 49/100\n",
            "31/31 [==============================] - 0s 3ms/step - loss: 0.3211 - acc: 0.8770 - val_loss: 0.2856 - val_acc: 0.8920\n",
            "Epoch 50/100\n",
            "31/31 [==============================] - 0s 3ms/step - loss: 0.2941 - acc: 0.8962 - val_loss: 0.2864 - val_acc: 0.9091\n",
            "Epoch 51/100\n",
            "31/31 [==============================] - 0s 3ms/step - loss: 0.3050 - acc: 0.8931 - val_loss: 0.2890 - val_acc: 0.9034\n",
            "Epoch 52/100\n",
            "31/31 [==============================] - 0s 3ms/step - loss: 0.2867 - acc: 0.9042 - val_loss: 0.2797 - val_acc: 0.9034\n",
            "Epoch 53/100\n",
            "31/31 [==============================] - 0s 4ms/step - loss: 0.3100 - acc: 0.8972 - val_loss: 0.2770 - val_acc: 0.9261\n",
            "Epoch 54/100\n",
            "31/31 [==============================] - 0s 4ms/step - loss: 0.3112 - acc: 0.8851 - val_loss: 0.2862 - val_acc: 0.8920\n",
            "Epoch 55/100\n",
            "31/31 [==============================] - 0s 4ms/step - loss: 0.3020 - acc: 0.8891 - val_loss: 0.2788 - val_acc: 0.8977\n",
            "Epoch 56/100\n",
            "31/31 [==============================] - 0s 3ms/step - loss: 0.3163 - acc: 0.8831 - val_loss: 0.2833 - val_acc: 0.8864\n",
            "Epoch 57/100\n",
            "31/31 [==============================] - 0s 3ms/step - loss: 0.3094 - acc: 0.8891 - val_loss: 0.2830 - val_acc: 0.8977\n",
            "Epoch 58/100\n",
            "31/31 [==============================] - 0s 3ms/step - loss: 0.3007 - acc: 0.8942 - val_loss: 0.2783 - val_acc: 0.9034\n",
            "Epoch 59/100\n",
            "31/31 [==============================] - 0s 3ms/step - loss: 0.2991 - acc: 0.8982 - val_loss: 0.2757 - val_acc: 0.9148\n",
            "Epoch 60/100\n",
            "31/31 [==============================] - 0s 3ms/step - loss: 0.2951 - acc: 0.8992 - val_loss: 0.2762 - val_acc: 0.9091\n",
            "Epoch 61/100\n",
            "31/31 [==============================] - 0s 3ms/step - loss: 0.2957 - acc: 0.8931 - val_loss: 0.2917 - val_acc: 0.8920\n",
            "Epoch 62/100\n",
            "31/31 [==============================] - 0s 3ms/step - loss: 0.2959 - acc: 0.8942 - val_loss: 0.2801 - val_acc: 0.8920\n",
            "Epoch 63/100\n",
            "31/31 [==============================] - 0s 4ms/step - loss: 0.2859 - acc: 0.8952 - val_loss: 0.2748 - val_acc: 0.9034\n",
            "Epoch 64/100\n",
            "31/31 [==============================] - 0s 4ms/step - loss: 0.2849 - acc: 0.8982 - val_loss: 0.2777 - val_acc: 0.9091\n",
            "Epoch 65/100\n",
            "31/31 [==============================] - 0s 4ms/step - loss: 0.3006 - acc: 0.8931 - val_loss: 0.2809 - val_acc: 0.8977\n",
            "Epoch 66/100\n",
            "31/31 [==============================] - 0s 3ms/step - loss: 0.2958 - acc: 0.8942 - val_loss: 0.2930 - val_acc: 0.8864\n",
            "Epoch 67/100\n",
            "31/31 [==============================] - 0s 3ms/step - loss: 0.2896 - acc: 0.8891 - val_loss: 0.2773 - val_acc: 0.9205\n",
            "Epoch 68/100\n",
            "31/31 [==============================] - 0s 4ms/step - loss: 0.3038 - acc: 0.8942 - val_loss: 0.2763 - val_acc: 0.9148\n",
            "Epoch 69/100\n",
            "31/31 [==============================] - 0s 3ms/step - loss: 0.2903 - acc: 0.8992 - val_loss: 0.2808 - val_acc: 0.8920\n",
            "Epoch 70/100\n",
            "31/31 [==============================] - 0s 3ms/step - loss: 0.2910 - acc: 0.8901 - val_loss: 0.2722 - val_acc: 0.9205\n",
            "Epoch 71/100\n",
            "31/31 [==============================] - 0s 3ms/step - loss: 0.2952 - acc: 0.8901 - val_loss: 0.2750 - val_acc: 0.9091\n",
            "Epoch 72/100\n",
            "31/31 [==============================] - 0s 4ms/step - loss: 0.2949 - acc: 0.8851 - val_loss: 0.2748 - val_acc: 0.9034\n",
            "Epoch 73/100\n",
            "31/31 [==============================] - 0s 3ms/step - loss: 0.2849 - acc: 0.8881 - val_loss: 0.2863 - val_acc: 0.8977\n",
            "Epoch 74/100\n",
            "31/31 [==============================] - 0s 3ms/step - loss: 0.2953 - acc: 0.8901 - val_loss: 0.2768 - val_acc: 0.9091\n",
            "Epoch 75/100\n",
            "31/31 [==============================] - 0s 4ms/step - loss: 0.2832 - acc: 0.9012 - val_loss: 0.2718 - val_acc: 0.9148\n",
            "Epoch 76/100\n",
            "31/31 [==============================] - 0s 4ms/step - loss: 0.2886 - acc: 0.9002 - val_loss: 0.2732 - val_acc: 0.9034\n",
            "Epoch 77/100\n",
            "31/31 [==============================] - 0s 3ms/step - loss: 0.2808 - acc: 0.9073 - val_loss: 0.2724 - val_acc: 0.9261\n",
            "Epoch 78/100\n",
            "31/31 [==============================] - 0s 3ms/step - loss: 0.2862 - acc: 0.8962 - val_loss: 0.2777 - val_acc: 0.9034\n",
            "Epoch 79/100\n",
            "31/31 [==============================] - 0s 4ms/step - loss: 0.2998 - acc: 0.8871 - val_loss: 0.2741 - val_acc: 0.9091\n",
            "Epoch 80/100\n",
            "31/31 [==============================] - 0s 3ms/step - loss: 0.3008 - acc: 0.8901 - val_loss: 0.2834 - val_acc: 0.8977\n",
            "Epoch 81/100\n",
            "31/31 [==============================] - 0s 4ms/step - loss: 0.2905 - acc: 0.8901 - val_loss: 0.2694 - val_acc: 0.9205\n",
            "Epoch 82/100\n",
            "31/31 [==============================] - 0s 3ms/step - loss: 0.2902 - acc: 0.8931 - val_loss: 0.2695 - val_acc: 0.9148\n",
            "Epoch 83/100\n",
            "31/31 [==============================] - 0s 4ms/step - loss: 0.2835 - acc: 0.9012 - val_loss: 0.3203 - val_acc: 0.8750\n",
            "Epoch 84/100\n",
            "31/31 [==============================] - 0s 3ms/step - loss: 0.3005 - acc: 0.8841 - val_loss: 0.2764 - val_acc: 0.9034\n",
            "Epoch 85/100\n",
            "31/31 [==============================] - 0s 3ms/step - loss: 0.2839 - acc: 0.8982 - val_loss: 0.2817 - val_acc: 0.9034\n",
            "Epoch 86/100\n",
            "31/31 [==============================] - 0s 3ms/step - loss: 0.2733 - acc: 0.8921 - val_loss: 0.2854 - val_acc: 0.9034\n",
            "Epoch 87/100\n",
            "31/31 [==============================] - 0s 3ms/step - loss: 0.2873 - acc: 0.8992 - val_loss: 0.2844 - val_acc: 0.8977\n",
            "Epoch 88/100\n",
            "31/31 [==============================] - 0s 3ms/step - loss: 0.2854 - acc: 0.8972 - val_loss: 0.2725 - val_acc: 0.9091\n",
            "Epoch 89/100\n",
            "31/31 [==============================] - 0s 3ms/step - loss: 0.3035 - acc: 0.8861 - val_loss: 0.3178 - val_acc: 0.8693\n",
            "Epoch 90/100\n",
            "31/31 [==============================] - 0s 4ms/step - loss: 0.2881 - acc: 0.9002 - val_loss: 0.2747 - val_acc: 0.9205\n",
            "Epoch 91/100\n",
            "31/31 [==============================] - 0s 3ms/step - loss: 0.2836 - acc: 0.8931 - val_loss: 0.2712 - val_acc: 0.9034\n",
            "Epoch 92/100\n",
            "31/31 [==============================] - 0s 3ms/step - loss: 0.2979 - acc: 0.8952 - val_loss: 0.2868 - val_acc: 0.8977\n",
            "Epoch 93/100\n",
            "31/31 [==============================] - 0s 4ms/step - loss: 0.2751 - acc: 0.8982 - val_loss: 0.2730 - val_acc: 0.8977\n",
            "Epoch 94/100\n",
            "31/31 [==============================] - 0s 4ms/step - loss: 0.2925 - acc: 0.8891 - val_loss: 0.2696 - val_acc: 0.9091\n",
            "Epoch 95/100\n",
            "31/31 [==============================] - 0s 3ms/step - loss: 0.2701 - acc: 0.8942 - val_loss: 0.2809 - val_acc: 0.9091\n",
            "Epoch 96/100\n",
            "31/31 [==============================] - 0s 3ms/step - loss: 0.2899 - acc: 0.8931 - val_loss: 0.2772 - val_acc: 0.9034\n",
            "Epoch 97/100\n",
            "31/31 [==============================] - 0s 3ms/step - loss: 0.2816 - acc: 0.8962 - val_loss: 0.2715 - val_acc: 0.9148\n",
            "Epoch 98/100\n",
            "31/31 [==============================] - 0s 4ms/step - loss: 0.2676 - acc: 0.9032 - val_loss: 0.2740 - val_acc: 0.8977\n",
            "Epoch 99/100\n",
            "31/31 [==============================] - 0s 3ms/step - loss: 0.2953 - acc: 0.8931 - val_loss: 0.2746 - val_acc: 0.8920\n",
            "Epoch 100/100\n",
            "31/31 [==============================] - 0s 3ms/step - loss: 0.2865 - acc: 0.8921 - val_loss: 0.2793 - val_acc: 0.9034\n"
          ]
        }
      ]
    },
    {
      "cell_type": "code",
      "source": [
        "model.summary()\n"
      ],
      "metadata": {
        "colab": {
          "base_uri": "https://localhost:8080/"
        },
        "id": "rgwhTTh7qJbP",
        "outputId": "6ada18d3-bd05-4357-94a9-b619bfaeb070"
      },
      "execution_count": 12,
      "outputs": [
        {
          "output_type": "stream",
          "name": "stdout",
          "text": [
            "Model: \"sequential\"\n",
            "_________________________________________________________________\n",
            " Layer (type)                Output Shape              Param #   \n",
            "=================================================================\n",
            " dense (Dense)               (None, 256)               2816      \n",
            "                                                                 \n",
            " dropout (Dropout)           (None, 256)               0         \n",
            "                                                                 \n",
            " dense_1 (Dense)             (None, 64)                16448     \n",
            "                                                                 \n",
            " dropout_1 (Dropout)         (None, 64)                0         \n",
            "                                                                 \n",
            " dense_2 (Dense)             (None, 64)                4160      \n",
            "                                                                 \n",
            " dropout_2 (Dropout)         (None, 64)                0         \n",
            "                                                                 \n",
            " dense_3 (Dense)             (None, 2)                 130       \n",
            "                                                                 \n",
            "=================================================================\n",
            "Total params: 23,554\n",
            "Trainable params: 23,554\n",
            "Non-trainable params: 0\n",
            "_________________________________________________________________\n"
          ]
        }
      ]
    },
    {
      "cell_type": "code",
      "source": [
        "# Show model training graph\n",
        "plt.plot(history.history['loss'], label='training loss')\n",
        "plt.plot(history.history['val_loss'], label='testing loss')\n",
        "plt.legend();"
      ],
      "metadata": {
        "colab": {
          "base_uri": "https://localhost:8080/",
          "height": 265
        },
        "id": "m3HWYKfsqLs3",
        "outputId": "99a644ec-061b-4d90-a902-cfd176c3c4c1"
      },
      "execution_count": 13,
      "outputs": [
        {
          "output_type": "display_data",
          "data": {
            "text/plain": [
              "<Figure size 432x288 with 1 Axes>"
            ],
            "image/png": "[encoded data removed]"
          },
          "metadata": {
            "needs_background": "light"
          }
        }
      ]
    },
    {
      "cell_type": "code",
      "source": [
        "# Show model training graph\n",
        "plt.plot(history.history['acc'], label='training accuracy')\n",
        "plt.plot(history.history['val_acc'], label='testing accuracy')\n",
        "plt.legend();"
      ],
      "metadata": {
        "colab": {
          "base_uri": "https://localhost:8080/",
          "height": 265
        },
        "id": "VPfxMF0BqNVg",
        "outputId": "db51416c-d57a-42cb-fda9-19509f48ce56"
      },
      "execution_count": 14,
      "outputs": [
        {
          "output_type": "display_data",
          "data": {
            "text/plain": [
              "<Figure size 432x288 with 1 Axes>"
            ],
            "image/png": "[encoded data removed]"
          },
          "metadata": {
            "needs_background": "light"
          }
        }
      ]
    },
    {
      "cell_type": "code",
      "source": [
        "# Evaluate the model\n",
        "model.evaluate(X_test, y_test)"
      ],
      "metadata": {
        "colab": {
          "base_uri": "https://localhost:8080/"
        },
        "id": "c0vq1ZLdqOz1",
        "outputId": "19e853e3-ba1d-4747-bac4-46cd2719e300"
      },
      "execution_count": 15,
      "outputs": [
        {
          "output_type": "stream",
          "name": "stdout",
          "text": [
            "10/10 [==============================] - 0s 2ms/step - loss: 0.2342 - acc: 0.9075\n"
          ]
        },
        {
          "output_type": "execute_result",
          "data": {
            "text/plain": [
              "[0.23419591784477234, 0.9075342416763306]"
            ]
          },
          "metadata": {},
          "execution_count": 15
        }
      ]
    },
    {
      "cell_type": "code",
      "source": [
        "# Confusion matrix\n",
        "y_pred = np.argmax(model.predict(X_test), axis=-1)\n",
        "\n",
        "y_test_round = np.argmax(y_test, axis=1)\n",
        "\n",
        "cm = confusion_matrix(y_test_round, y_pred)\n",
        "\n",
        "figure = plt.figure(figsize=(8, 8))\n",
        "sns.heatmap(cm, annot=True, cmap=plt.cm.Blues, square=True, fmt=\"\")\n",
        "plt.tight_layout()\n",
        "plt.ylabel('True label')\n",
        "plt.xlabel('Predicted label')\n",
        "plt.show()"
      ],
      "metadata": {
        "colab": {
          "base_uri": "https://localhost:8080/",
          "height": 585
        },
        "id": "fUaqSSJsqQg-",
        "outputId": "d0693e8c-c1fc-4b13-9615-8b858c8ef066"
      },
      "execution_count": 16,
      "outputs": [
        {
          "output_type": "display_data",
          "data": {
            "text/plain": [
              "<Figure size 576x576 with 2 Axes>"
            ],
            "image/png": "[encoded data removed]"
          },
          "metadata": {
            "needs_background": "light"
          }
        }
      ]
    },
    {
      "cell_type": "code",
      "source": [
        "print(\"Precision:\", precision_score(y_test_round, y_pred))\n",
        "print(\"Recall:\", recall_score(y_test_round, y_pred))\n",
        "print(\"F1 score:\", f1_score(y_test_round,y_pred))"
      ],
      "metadata": {
        "colab": {
          "base_uri": "https://localhost:8080/"
        },
        "id": "S4T2Cpg5qTFI",
        "outputId": "b02f5b92-5dcb-489b-c847-f76a35532477"
      },
      "execution_count": 17,
      "outputs": [
        {
          "output_type": "stream",
          "name": "stdout",
          "text": [
            "Precision: 0.8611111111111112\n",
            "Recall: 0.9465648854961832\n",
            "F1 score: 0.9018181818181819\n"
          ]
        }
      ]
    }
  ]
}